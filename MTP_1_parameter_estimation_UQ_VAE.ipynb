{
  "nbformat": 4,
  "nbformat_minor": 0,
  "metadata": {
    "colab": {
      "provenance": [],
      "gpuType": "T4"
    },
    "kernelspec": {
      "name": "python3",
      "display_name": "Python 3"
    },
    "language_info": {
      "name": "python"
    },
    "accelerator": "GPU"
  },
  "cells": [
    {
      "cell_type": "code",
      "execution_count": 210,
      "metadata": {
        "colab": {
          "base_uri": "https://localhost:8080/"
        },
        "id": "9S_f_IWww-fS",
        "outputId": "23e1936c-791f-4afe-c4a0-c37e0e23b26e"
      },
      "outputs": [
        {
          "output_type": "stream",
          "name": "stdout",
          "text": [
            "Drive already mounted at /content/drive; to attempt to forcibly remount, call drive.mount(\"/content/drive\", force_remount=True).\n"
          ]
        }
      ],
      "source": [
        "from google.colab import drive\n",
        "drive.mount('/content/drive')"
      ]
    },
    {
      "cell_type": "code",
      "source": [
        "!pip install keras-tuner --upgrade"
      ],
      "metadata": {
        "colab": {
          "base_uri": "https://localhost:8080/"
        },
        "id": "n6OnSPk1iq-W",
        "outputId": "62fdd8f7-f8da-4390-c975-29d844d5f5aa"
      },
      "execution_count": 211,
      "outputs": [
        {
          "output_type": "stream",
          "name": "stdout",
          "text": [
            "Requirement already satisfied: keras-tuner in /usr/local/lib/python3.10/dist-packages (1.4.6)\n",
            "Requirement already satisfied: keras in /usr/local/lib/python3.10/dist-packages (from keras-tuner) (2.15.0)\n",
            "Requirement already satisfied: packaging in /usr/local/lib/python3.10/dist-packages (from keras-tuner) (23.2)\n",
            "Requirement already satisfied: requests in /usr/local/lib/python3.10/dist-packages (from keras-tuner) (2.31.0)\n",
            "Requirement already satisfied: kt-legacy in /usr/local/lib/python3.10/dist-packages (from keras-tuner) (1.0.5)\n",
            "Requirement already satisfied: charset-normalizer<4,>=2 in /usr/local/lib/python3.10/dist-packages (from requests->keras-tuner) (3.3.2)\n",
            "Requirement already satisfied: idna<4,>=2.5 in /usr/local/lib/python3.10/dist-packages (from requests->keras-tuner) (3.6)\n",
            "Requirement already satisfied: urllib3<3,>=1.21.1 in /usr/local/lib/python3.10/dist-packages (from requests->keras-tuner) (2.0.7)\n",
            "Requirement already satisfied: certifi>=2017.4.17 in /usr/local/lib/python3.10/dist-packages (from requests->keras-tuner) (2024.2.2)\n"
          ]
        }
      ]
    },
    {
      "cell_type": "markdown",
      "source": [
        "## Importing Required Libraries"
      ],
      "metadata": {
        "id": "j4iqCOiuNwTM"
      }
    },
    {
      "cell_type": "code",
      "source": [
        "from __future__ import absolute_import\n",
        "from __future__ import division\n",
        "from __future__ import print_function\n",
        "\n",
        "from keras.layers import Lambda, Input, Dense, Reshape, RepeatVector, Dropout\n",
        "from keras.models import Model\n",
        "from keras.losses import mse, binary_crossentropy\n",
        "from keras.utils import plot_model\n",
        "from keras import backend as K\n",
        "from keras.constraints import unit_norm, max_norm\n",
        "import tensorflow as tf\n",
        "from scipy import stats\n",
        "import pandas as pd\n",
        "import numpy as np\n",
        "import matplotlib\n",
        "import matplotlib.pyplot as plt\n",
        "import argparse\n",
        "import os\n",
        "from sklearn.manifold import MDS\n",
        "from sklearn.model_selection import StratifiedKFold\n",
        "from sklearn.metrics import mean_squared_error, r2_score"
      ],
      "metadata": {
        "id": "OLQeYVMexDq-"
      },
      "execution_count": 212,
      "outputs": []
    },
    {
      "cell_type": "code",
      "source": [
        "from tensorflow.keras.callbacks import Callback"
      ],
      "metadata": {
        "id": "GVju6oZtaeZi"
      },
      "execution_count": 213,
      "outputs": []
    },
    {
      "cell_type": "code",
      "source": [
        "from tensorflow.keras.layers import Input, Dense, Lambda, Dropout\n",
        "from tensorflow.keras.models import Model\n",
        "from tensorflow.keras import backend as K\n",
        "from tensorflow.keras.losses import mse\n",
        "import tensorflow as tf"
      ],
      "metadata": {
        "id": "Bk0TA1S7Hp6Y"
      },
      "execution_count": 214,
      "outputs": []
    },
    {
      "cell_type": "code",
      "source": [
        "from mpl_toolkits.mplot3d import Axes3D\n",
        "\n",
        "# reparameterization trick\n",
        "# instead of sampling from Q(z|X), sample eps = N(0,I)\n",
        "# z = z_mean + sqrt(var)*eps\n",
        "def sampling(args):\n",
        "    \"\"\"Reparameterization trick by sampling fr an isotropic unit Gaussian.\n",
        "    # Arguments:\n",
        "        args (tensor): mean and log of variance of Q(z|X)\n",
        "    # Returns:\n",
        "        z (tensor): sampled latent vector\n",
        "    \"\"\"\n",
        "\n",
        "    z_mean, z_log_var = args\n",
        "    batch = K.shape(z_mean)[0]\n",
        "    dim = K.int_shape(z_mean)[1]\n",
        "    # by default, random_normal has mean=0 and std=1.0\n",
        "    epsilon = K.random_normal(shape=(batch, dim))\n",
        "    thre = K.random_uniform(shape=(batch,1))\n",
        "    return z_mean + K.exp(0.5 * z_log_var) * epsilon"
      ],
      "metadata": {
        "id": "lJZCMPE8xKzI"
      },
      "execution_count": 215,
      "outputs": []
    },
    {
      "cell_type": "markdown",
      "source": [
        "## Importing DataSet"
      ],
      "metadata": {
        "id": "Po0vdeAPN5fI"
      }
    },
    {
      "cell_type": "code",
      "source": [
        "import pandas as pd\n",
        "import numpy as np\n",
        "\n",
        "data = pd.read_csv('/content/drive/MyDrive/MTP_DEC/1_para.csv')\n",
        "\n",
        "data = pd.DataFrame(data)"
      ],
      "metadata": {
        "id": "zBprHw4VxMw5"
      },
      "execution_count": 216,
      "outputs": []
    },
    {
      "cell_type": "code",
      "source": [
        "data.head()"
      ],
      "metadata": {
        "colab": {
          "base_uri": "https://localhost:8080/",
          "height": 206
        },
        "id": "xtsawGSWxQkQ",
        "outputId": "946d1491-e5b8-451c-e869-c0c13093c8ca"
      },
      "execution_count": 217,
      "outputs": [
        {
          "output_type": "execute_result",
          "data": {
            "text/plain": [
              "            0        0.02        0.04        0.06        0.08         0.1  \\\n",
              "0  376.228731  376.105858  375.982985  375.860112  375.737238  375.614365   \n",
              "1  378.621190  378.259071  377.896952  377.534833  377.172714  376.810595   \n",
              "2  376.947473  376.752726  376.557978  376.363231  376.168484  375.973736   \n",
              "3  376.348463  376.213616  376.078770  375.943924  375.809078  375.674231   \n",
              "4  377.804453  377.524008  377.243562  376.963117  376.682672  376.402226   \n",
              "\n",
              "         0.12        0.14        0.16        0.18  0.2           k  \n",
              "0  375.491492  375.368619  375.245746  375.122873  375  162.769570  \n",
              "1  376.448476  376.086357  375.724238  375.362119  375   55.230459  \n",
              "2  375.778989  375.584242  375.389495  375.194747  375  102.697189  \n",
              "3  375.539385  375.404539  375.269693  375.134846  375  148.317051  \n",
              "4  376.121781  375.841336  375.560891  375.280445  375   71.315157  "
            ],
            "text/html": [
              "\n",
              "  <div id=\"df-19a2ca01-db6a-46ae-9021-eedeec447952\" class=\"colab-df-container\">\n",
              "    <div>\n",
              "<style scoped>\n",
              "    .dataframe tbody tr th:only-of-type {\n",
              "        vertical-align: middle;\n",
              "    }\n",
              "\n",
              "    .dataframe tbody tr th {\n",
              "        vertical-align: top;\n",
              "    }\n",
              "\n",
              "    .dataframe thead th {\n",
              "        text-align: right;\n",
              "    }\n",
              "</style>\n",
              "<table border=\"1\" class=\"dataframe\">\n",
              "  <thead>\n",
              "    <tr style=\"text-align: right;\">\n",
              "      <th></th>\n",
              "      <th>0</th>\n",
              "      <th>0.02</th>\n",
              "      <th>0.04</th>\n",
              "      <th>0.06</th>\n",
              "      <th>0.08</th>\n",
              "      <th>0.1</th>\n",
              "      <th>0.12</th>\n",
              "      <th>0.14</th>\n",
              "      <th>0.16</th>\n",
              "      <th>0.18</th>\n",
              "      <th>0.2</th>\n",
              "      <th>k</th>\n",
              "    </tr>\n",
              "  </thead>\n",
              "  <tbody>\n",
              "    <tr>\n",
              "      <th>0</th>\n",
              "      <td>376.228731</td>\n",
              "      <td>376.105858</td>\n",
              "      <td>375.982985</td>\n",
              "      <td>375.860112</td>\n",
              "      <td>375.737238</td>\n",
              "      <td>375.614365</td>\n",
              "      <td>375.491492</td>\n",
              "      <td>375.368619</td>\n",
              "      <td>375.245746</td>\n",
              "      <td>375.122873</td>\n",
              "      <td>375</td>\n",
              "      <td>162.769570</td>\n",
              "    </tr>\n",
              "    <tr>\n",
              "      <th>1</th>\n",
              "      <td>378.621190</td>\n",
              "      <td>378.259071</td>\n",
              "      <td>377.896952</td>\n",
              "      <td>377.534833</td>\n",
              "      <td>377.172714</td>\n",
              "      <td>376.810595</td>\n",
              "      <td>376.448476</td>\n",
              "      <td>376.086357</td>\n",
              "      <td>375.724238</td>\n",
              "      <td>375.362119</td>\n",
              "      <td>375</td>\n",
              "      <td>55.230459</td>\n",
              "    </tr>\n",
              "    <tr>\n",
              "      <th>2</th>\n",
              "      <td>376.947473</td>\n",
              "      <td>376.752726</td>\n",
              "      <td>376.557978</td>\n",
              "      <td>376.363231</td>\n",
              "      <td>376.168484</td>\n",
              "      <td>375.973736</td>\n",
              "      <td>375.778989</td>\n",
              "      <td>375.584242</td>\n",
              "      <td>375.389495</td>\n",
              "      <td>375.194747</td>\n",
              "      <td>375</td>\n",
              "      <td>102.697189</td>\n",
              "    </tr>\n",
              "    <tr>\n",
              "      <th>3</th>\n",
              "      <td>376.348463</td>\n",
              "      <td>376.213616</td>\n",
              "      <td>376.078770</td>\n",
              "      <td>375.943924</td>\n",
              "      <td>375.809078</td>\n",
              "      <td>375.674231</td>\n",
              "      <td>375.539385</td>\n",
              "      <td>375.404539</td>\n",
              "      <td>375.269693</td>\n",
              "      <td>375.134846</td>\n",
              "      <td>375</td>\n",
              "      <td>148.317051</td>\n",
              "    </tr>\n",
              "    <tr>\n",
              "      <th>4</th>\n",
              "      <td>377.804453</td>\n",
              "      <td>377.524008</td>\n",
              "      <td>377.243562</td>\n",
              "      <td>376.963117</td>\n",
              "      <td>376.682672</td>\n",
              "      <td>376.402226</td>\n",
              "      <td>376.121781</td>\n",
              "      <td>375.841336</td>\n",
              "      <td>375.560891</td>\n",
              "      <td>375.280445</td>\n",
              "      <td>375</td>\n",
              "      <td>71.315157</td>\n",
              "    </tr>\n",
              "  </tbody>\n",
              "</table>\n",
              "</div>\n",
              "    <div class=\"colab-df-buttons\">\n",
              "\n",
              "  <div class=\"colab-df-container\">\n",
              "    <button class=\"colab-df-convert\" onclick=\"convertToInteractive('df-19a2ca01-db6a-46ae-9021-eedeec447952')\"\n",
              "            title=\"Convert this dataframe to an interactive table.\"\n",
              "            style=\"display:none;\">\n",
              "\n",
              "  <svg xmlns=\"http://www.w3.org/2000/svg\" height=\"24px\" viewBox=\"0 -960 960 960\">\n",
              "    <path d=\"M120-120v-720h720v720H120Zm60-500h600v-160H180v160Zm220 220h160v-160H400v160Zm0 220h160v-160H400v160ZM180-400h160v-160H180v160Zm440 0h160v-160H620v160ZM180-180h160v-160H180v160Zm440 0h160v-160H620v160Z\"/>\n",
              "  </svg>\n",
              "    </button>\n",
              "\n",
              "  <style>\n",
              "    .colab-df-container {\n",
              "      display:flex;\n",
              "      gap: 12px;\n",
              "    }\n",
              "\n",
              "    .colab-df-convert {\n",
              "      background-color: #E8F0FE;\n",
              "      border: none;\n",
              "      border-radius: 50%;\n",
              "      cursor: pointer;\n",
              "      display: none;\n",
              "      fill: #1967D2;\n",
              "      height: 32px;\n",
              "      padding: 0 0 0 0;\n",
              "      width: 32px;\n",
              "    }\n",
              "\n",
              "    .colab-df-convert:hover {\n",
              "      background-color: #E2EBFA;\n",
              "      box-shadow: 0px 1px 2px rgba(60, 64, 67, 0.3), 0px 1px 3px 1px rgba(60, 64, 67, 0.15);\n",
              "      fill: #174EA6;\n",
              "    }\n",
              "\n",
              "    .colab-df-buttons div {\n",
              "      margin-bottom: 4px;\n",
              "    }\n",
              "\n",
              "    [theme=dark] .colab-df-convert {\n",
              "      background-color: #3B4455;\n",
              "      fill: #D2E3FC;\n",
              "    }\n",
              "\n",
              "    [theme=dark] .colab-df-convert:hover {\n",
              "      background-color: #434B5C;\n",
              "      box-shadow: 0px 1px 3px 1px rgba(0, 0, 0, 0.15);\n",
              "      filter: drop-shadow(0px 1px 2px rgba(0, 0, 0, 0.3));\n",
              "      fill: #FFFFFF;\n",
              "    }\n",
              "  </style>\n",
              "\n",
              "    <script>\n",
              "      const buttonEl =\n",
              "        document.querySelector('#df-19a2ca01-db6a-46ae-9021-eedeec447952 button.colab-df-convert');\n",
              "      buttonEl.style.display =\n",
              "        google.colab.kernel.accessAllowed ? 'block' : 'none';\n",
              "\n",
              "      async function convertToInteractive(key) {\n",
              "        const element = document.querySelector('#df-19a2ca01-db6a-46ae-9021-eedeec447952');\n",
              "        const dataTable =\n",
              "          await google.colab.kernel.invokeFunction('convertToInteractive',\n",
              "                                                    [key], {});\n",
              "        if (!dataTable) return;\n",
              "\n",
              "        const docLinkHtml = 'Like what you see? Visit the ' +\n",
              "          '<a target=\"_blank\" href=https://colab.research.google.com/notebooks/data_table.ipynb>data table notebook</a>'\n",
              "          + ' to learn more about interactive tables.';\n",
              "        element.innerHTML = '';\n",
              "        dataTable['output_type'] = 'display_data';\n",
              "        await google.colab.output.renderOutput(dataTable, element);\n",
              "        const docLink = document.createElement('div');\n",
              "        docLink.innerHTML = docLinkHtml;\n",
              "        element.appendChild(docLink);\n",
              "      }\n",
              "    </script>\n",
              "  </div>\n",
              "\n",
              "\n",
              "<div id=\"df-6615876e-3740-419a-b7b7-e2d673fe863d\">\n",
              "  <button class=\"colab-df-quickchart\" onclick=\"quickchart('df-6615876e-3740-419a-b7b7-e2d673fe863d')\"\n",
              "            title=\"Suggest charts\"\n",
              "            style=\"display:none;\">\n",
              "\n",
              "<svg xmlns=\"http://www.w3.org/2000/svg\" height=\"24px\"viewBox=\"0 0 24 24\"\n",
              "     width=\"24px\">\n",
              "    <g>\n",
              "        <path d=\"M19 3H5c-1.1 0-2 .9-2 2v14c0 1.1.9 2 2 2h14c1.1 0 2-.9 2-2V5c0-1.1-.9-2-2-2zM9 17H7v-7h2v7zm4 0h-2V7h2v10zm4 0h-2v-4h2v4z\"/>\n",
              "    </g>\n",
              "</svg>\n",
              "  </button>\n",
              "\n",
              "<style>\n",
              "  .colab-df-quickchart {\n",
              "      --bg-color: #E8F0FE;\n",
              "      --fill-color: #1967D2;\n",
              "      --hover-bg-color: #E2EBFA;\n",
              "      --hover-fill-color: #174EA6;\n",
              "      --disabled-fill-color: #AAA;\n",
              "      --disabled-bg-color: #DDD;\n",
              "  }\n",
              "\n",
              "  [theme=dark] .colab-df-quickchart {\n",
              "      --bg-color: #3B4455;\n",
              "      --fill-color: #D2E3FC;\n",
              "      --hover-bg-color: #434B5C;\n",
              "      --hover-fill-color: #FFFFFF;\n",
              "      --disabled-bg-color: #3B4455;\n",
              "      --disabled-fill-color: #666;\n",
              "  }\n",
              "\n",
              "  .colab-df-quickchart {\n",
              "    background-color: var(--bg-color);\n",
              "    border: none;\n",
              "    border-radius: 50%;\n",
              "    cursor: pointer;\n",
              "    display: none;\n",
              "    fill: var(--fill-color);\n",
              "    height: 32px;\n",
              "    padding: 0;\n",
              "    width: 32px;\n",
              "  }\n",
              "\n",
              "  .colab-df-quickchart:hover {\n",
              "    background-color: var(--hover-bg-color);\n",
              "    box-shadow: 0 1px 2px rgba(60, 64, 67, 0.3), 0 1px 3px 1px rgba(60, 64, 67, 0.15);\n",
              "    fill: var(--button-hover-fill-color);\n",
              "  }\n",
              "\n",
              "  .colab-df-quickchart-complete:disabled,\n",
              "  .colab-df-quickchart-complete:disabled:hover {\n",
              "    background-color: var(--disabled-bg-color);\n",
              "    fill: var(--disabled-fill-color);\n",
              "    box-shadow: none;\n",
              "  }\n",
              "\n",
              "  .colab-df-spinner {\n",
              "    border: 2px solid var(--fill-color);\n",
              "    border-color: transparent;\n",
              "    border-bottom-color: var(--fill-color);\n",
              "    animation:\n",
              "      spin 1s steps(1) infinite;\n",
              "  }\n",
              "\n",
              "  @keyframes spin {\n",
              "    0% {\n",
              "      border-color: transparent;\n",
              "      border-bottom-color: var(--fill-color);\n",
              "      border-left-color: var(--fill-color);\n",
              "    }\n",
              "    20% {\n",
              "      border-color: transparent;\n",
              "      border-left-color: var(--fill-color);\n",
              "      border-top-color: var(--fill-color);\n",
              "    }\n",
              "    30% {\n",
              "      border-color: transparent;\n",
              "      border-left-color: var(--fill-color);\n",
              "      border-top-color: var(--fill-color);\n",
              "      border-right-color: var(--fill-color);\n",
              "    }\n",
              "    40% {\n",
              "      border-color: transparent;\n",
              "      border-right-color: var(--fill-color);\n",
              "      border-top-color: var(--fill-color);\n",
              "    }\n",
              "    60% {\n",
              "      border-color: transparent;\n",
              "      border-right-color: var(--fill-color);\n",
              "    }\n",
              "    80% {\n",
              "      border-color: transparent;\n",
              "      border-right-color: var(--fill-color);\n",
              "      border-bottom-color: var(--fill-color);\n",
              "    }\n",
              "    90% {\n",
              "      border-color: transparent;\n",
              "      border-bottom-color: var(--fill-color);\n",
              "    }\n",
              "  }\n",
              "</style>\n",
              "\n",
              "  <script>\n",
              "    async function quickchart(key) {\n",
              "      const quickchartButtonEl =\n",
              "        document.querySelector('#' + key + ' button');\n",
              "      quickchartButtonEl.disabled = true;  // To prevent multiple clicks.\n",
              "      quickchartButtonEl.classList.add('colab-df-spinner');\n",
              "      try {\n",
              "        const charts = await google.colab.kernel.invokeFunction(\n",
              "            'suggestCharts', [key], {});\n",
              "      } catch (error) {\n",
              "        console.error('Error during call to suggestCharts:', error);\n",
              "      }\n",
              "      quickchartButtonEl.classList.remove('colab-df-spinner');\n",
              "      quickchartButtonEl.classList.add('colab-df-quickchart-complete');\n",
              "    }\n",
              "    (() => {\n",
              "      let quickchartButtonEl =\n",
              "        document.querySelector('#df-6615876e-3740-419a-b7b7-e2d673fe863d button');\n",
              "      quickchartButtonEl.style.display =\n",
              "        google.colab.kernel.accessAllowed ? 'block' : 'none';\n",
              "    })();\n",
              "  </script>\n",
              "</div>\n",
              "    </div>\n",
              "  </div>\n"
            ]
          },
          "metadata": {},
          "execution_count": 217
        }
      ]
    },
    {
      "cell_type": "code",
      "source": [
        "original_data_x = data.iloc[:,:11]\n",
        "original_data_x.head()"
      ],
      "metadata": {
        "colab": {
          "base_uri": "https://localhost:8080/",
          "height": 206
        },
        "id": "Z2PhnqiWxSkv",
        "outputId": "890ebf1b-5c55-4853-b2be-2a9ffd7b4d31"
      },
      "execution_count": 218,
      "outputs": [
        {
          "output_type": "execute_result",
          "data": {
            "text/plain": [
              "            0        0.02        0.04        0.06        0.08         0.1  \\\n",
              "0  376.228731  376.105858  375.982985  375.860112  375.737238  375.614365   \n",
              "1  378.621190  378.259071  377.896952  377.534833  377.172714  376.810595   \n",
              "2  376.947473  376.752726  376.557978  376.363231  376.168484  375.973736   \n",
              "3  376.348463  376.213616  376.078770  375.943924  375.809078  375.674231   \n",
              "4  377.804453  377.524008  377.243562  376.963117  376.682672  376.402226   \n",
              "\n",
              "         0.12        0.14        0.16        0.18  0.2  \n",
              "0  375.491492  375.368619  375.245746  375.122873  375  \n",
              "1  376.448476  376.086357  375.724238  375.362119  375  \n",
              "2  375.778989  375.584242  375.389495  375.194747  375  \n",
              "3  375.539385  375.404539  375.269693  375.134846  375  \n",
              "4  376.121781  375.841336  375.560891  375.280445  375  "
            ],
            "text/html": [
              "\n",
              "  <div id=\"df-d7a36775-5806-4703-b299-19acc572f037\" class=\"colab-df-container\">\n",
              "    <div>\n",
              "<style scoped>\n",
              "    .dataframe tbody tr th:only-of-type {\n",
              "        vertical-align: middle;\n",
              "    }\n",
              "\n",
              "    .dataframe tbody tr th {\n",
              "        vertical-align: top;\n",
              "    }\n",
              "\n",
              "    .dataframe thead th {\n",
              "        text-align: right;\n",
              "    }\n",
              "</style>\n",
              "<table border=\"1\" class=\"dataframe\">\n",
              "  <thead>\n",
              "    <tr style=\"text-align: right;\">\n",
              "      <th></th>\n",
              "      <th>0</th>\n",
              "      <th>0.02</th>\n",
              "      <th>0.04</th>\n",
              "      <th>0.06</th>\n",
              "      <th>0.08</th>\n",
              "      <th>0.1</th>\n",
              "      <th>0.12</th>\n",
              "      <th>0.14</th>\n",
              "      <th>0.16</th>\n",
              "      <th>0.18</th>\n",
              "      <th>0.2</th>\n",
              "    </tr>\n",
              "  </thead>\n",
              "  <tbody>\n",
              "    <tr>\n",
              "      <th>0</th>\n",
              "      <td>376.228731</td>\n",
              "      <td>376.105858</td>\n",
              "      <td>375.982985</td>\n",
              "      <td>375.860112</td>\n",
              "      <td>375.737238</td>\n",
              "      <td>375.614365</td>\n",
              "      <td>375.491492</td>\n",
              "      <td>375.368619</td>\n",
              "      <td>375.245746</td>\n",
              "      <td>375.122873</td>\n",
              "      <td>375</td>\n",
              "    </tr>\n",
              "    <tr>\n",
              "      <th>1</th>\n",
              "      <td>378.621190</td>\n",
              "      <td>378.259071</td>\n",
              "      <td>377.896952</td>\n",
              "      <td>377.534833</td>\n",
              "      <td>377.172714</td>\n",
              "      <td>376.810595</td>\n",
              "      <td>376.448476</td>\n",
              "      <td>376.086357</td>\n",
              "      <td>375.724238</td>\n",
              "      <td>375.362119</td>\n",
              "      <td>375</td>\n",
              "    </tr>\n",
              "    <tr>\n",
              "      <th>2</th>\n",
              "      <td>376.947473</td>\n",
              "      <td>376.752726</td>\n",
              "      <td>376.557978</td>\n",
              "      <td>376.363231</td>\n",
              "      <td>376.168484</td>\n",
              "      <td>375.973736</td>\n",
              "      <td>375.778989</td>\n",
              "      <td>375.584242</td>\n",
              "      <td>375.389495</td>\n",
              "      <td>375.194747</td>\n",
              "      <td>375</td>\n",
              "    </tr>\n",
              "    <tr>\n",
              "      <th>3</th>\n",
              "      <td>376.348463</td>\n",
              "      <td>376.213616</td>\n",
              "      <td>376.078770</td>\n",
              "      <td>375.943924</td>\n",
              "      <td>375.809078</td>\n",
              "      <td>375.674231</td>\n",
              "      <td>375.539385</td>\n",
              "      <td>375.404539</td>\n",
              "      <td>375.269693</td>\n",
              "      <td>375.134846</td>\n",
              "      <td>375</td>\n",
              "    </tr>\n",
              "    <tr>\n",
              "      <th>4</th>\n",
              "      <td>377.804453</td>\n",
              "      <td>377.524008</td>\n",
              "      <td>377.243562</td>\n",
              "      <td>376.963117</td>\n",
              "      <td>376.682672</td>\n",
              "      <td>376.402226</td>\n",
              "      <td>376.121781</td>\n",
              "      <td>375.841336</td>\n",
              "      <td>375.560891</td>\n",
              "      <td>375.280445</td>\n",
              "      <td>375</td>\n",
              "    </tr>\n",
              "  </tbody>\n",
              "</table>\n",
              "</div>\n",
              "    <div class=\"colab-df-buttons\">\n",
              "\n",
              "  <div class=\"colab-df-container\">\n",
              "    <button class=\"colab-df-convert\" onclick=\"convertToInteractive('df-d7a36775-5806-4703-b299-19acc572f037')\"\n",
              "            title=\"Convert this dataframe to an interactive table.\"\n",
              "            style=\"display:none;\">\n",
              "\n",
              "  <svg xmlns=\"http://www.w3.org/2000/svg\" height=\"24px\" viewBox=\"0 -960 960 960\">\n",
              "    <path d=\"M120-120v-720h720v720H120Zm60-500h600v-160H180v160Zm220 220h160v-160H400v160Zm0 220h160v-160H400v160ZM180-400h160v-160H180v160Zm440 0h160v-160H620v160ZM180-180h160v-160H180v160Zm440 0h160v-160H620v160Z\"/>\n",
              "  </svg>\n",
              "    </button>\n",
              "\n",
              "  <style>\n",
              "    .colab-df-container {\n",
              "      display:flex;\n",
              "      gap: 12px;\n",
              "    }\n",
              "\n",
              "    .colab-df-convert {\n",
              "      background-color: #E8F0FE;\n",
              "      border: none;\n",
              "      border-radius: 50%;\n",
              "      cursor: pointer;\n",
              "      display: none;\n",
              "      fill: #1967D2;\n",
              "      height: 32px;\n",
              "      padding: 0 0 0 0;\n",
              "      width: 32px;\n",
              "    }\n",
              "\n",
              "    .colab-df-convert:hover {\n",
              "      background-color: #E2EBFA;\n",
              "      box-shadow: 0px 1px 2px rgba(60, 64, 67, 0.3), 0px 1px 3px 1px rgba(60, 64, 67, 0.15);\n",
              "      fill: #174EA6;\n",
              "    }\n",
              "\n",
              "    .colab-df-buttons div {\n",
              "      margin-bottom: 4px;\n",
              "    }\n",
              "\n",
              "    [theme=dark] .colab-df-convert {\n",
              "      background-color: #3B4455;\n",
              "      fill: #D2E3FC;\n",
              "    }\n",
              "\n",
              "    [theme=dark] .colab-df-convert:hover {\n",
              "      background-color: #434B5C;\n",
              "      box-shadow: 0px 1px 3px 1px rgba(0, 0, 0, 0.15);\n",
              "      filter: drop-shadow(0px 1px 2px rgba(0, 0, 0, 0.3));\n",
              "      fill: #FFFFFF;\n",
              "    }\n",
              "  </style>\n",
              "\n",
              "    <script>\n",
              "      const buttonEl =\n",
              "        document.querySelector('#df-d7a36775-5806-4703-b299-19acc572f037 button.colab-df-convert');\n",
              "      buttonEl.style.display =\n",
              "        google.colab.kernel.accessAllowed ? 'block' : 'none';\n",
              "\n",
              "      async function convertToInteractive(key) {\n",
              "        const element = document.querySelector('#df-d7a36775-5806-4703-b299-19acc572f037');\n",
              "        const dataTable =\n",
              "          await google.colab.kernel.invokeFunction('convertToInteractive',\n",
              "                                                    [key], {});\n",
              "        if (!dataTable) return;\n",
              "\n",
              "        const docLinkHtml = 'Like what you see? Visit the ' +\n",
              "          '<a target=\"_blank\" href=https://colab.research.google.com/notebooks/data_table.ipynb>data table notebook</a>'\n",
              "          + ' to learn more about interactive tables.';\n",
              "        element.innerHTML = '';\n",
              "        dataTable['output_type'] = 'display_data';\n",
              "        await google.colab.output.renderOutput(dataTable, element);\n",
              "        const docLink = document.createElement('div');\n",
              "        docLink.innerHTML = docLinkHtml;\n",
              "        element.appendChild(docLink);\n",
              "      }\n",
              "    </script>\n",
              "  </div>\n",
              "\n",
              "\n",
              "<div id=\"df-1b0987e3-22c9-4e8d-9ed4-db436aa02309\">\n",
              "  <button class=\"colab-df-quickchart\" onclick=\"quickchart('df-1b0987e3-22c9-4e8d-9ed4-db436aa02309')\"\n",
              "            title=\"Suggest charts\"\n",
              "            style=\"display:none;\">\n",
              "\n",
              "<svg xmlns=\"http://www.w3.org/2000/svg\" height=\"24px\"viewBox=\"0 0 24 24\"\n",
              "     width=\"24px\">\n",
              "    <g>\n",
              "        <path d=\"M19 3H5c-1.1 0-2 .9-2 2v14c0 1.1.9 2 2 2h14c1.1 0 2-.9 2-2V5c0-1.1-.9-2-2-2zM9 17H7v-7h2v7zm4 0h-2V7h2v10zm4 0h-2v-4h2v4z\"/>\n",
              "    </g>\n",
              "</svg>\n",
              "  </button>\n",
              "\n",
              "<style>\n",
              "  .colab-df-quickchart {\n",
              "      --bg-color: #E8F0FE;\n",
              "      --fill-color: #1967D2;\n",
              "      --hover-bg-color: #E2EBFA;\n",
              "      --hover-fill-color: #174EA6;\n",
              "      --disabled-fill-color: #AAA;\n",
              "      --disabled-bg-color: #DDD;\n",
              "  }\n",
              "\n",
              "  [theme=dark] .colab-df-quickchart {\n",
              "      --bg-color: #3B4455;\n",
              "      --fill-color: #D2E3FC;\n",
              "      --hover-bg-color: #434B5C;\n",
              "      --hover-fill-color: #FFFFFF;\n",
              "      --disabled-bg-color: #3B4455;\n",
              "      --disabled-fill-color: #666;\n",
              "  }\n",
              "\n",
              "  .colab-df-quickchart {\n",
              "    background-color: var(--bg-color);\n",
              "    border: none;\n",
              "    border-radius: 50%;\n",
              "    cursor: pointer;\n",
              "    display: none;\n",
              "    fill: var(--fill-color);\n",
              "    height: 32px;\n",
              "    padding: 0;\n",
              "    width: 32px;\n",
              "  }\n",
              "\n",
              "  .colab-df-quickchart:hover {\n",
              "    background-color: var(--hover-bg-color);\n",
              "    box-shadow: 0 1px 2px rgba(60, 64, 67, 0.3), 0 1px 3px 1px rgba(60, 64, 67, 0.15);\n",
              "    fill: var(--button-hover-fill-color);\n",
              "  }\n",
              "\n",
              "  .colab-df-quickchart-complete:disabled,\n",
              "  .colab-df-quickchart-complete:disabled:hover {\n",
              "    background-color: var(--disabled-bg-color);\n",
              "    fill: var(--disabled-fill-color);\n",
              "    box-shadow: none;\n",
              "  }\n",
              "\n",
              "  .colab-df-spinner {\n",
              "    border: 2px solid var(--fill-color);\n",
              "    border-color: transparent;\n",
              "    border-bottom-color: var(--fill-color);\n",
              "    animation:\n",
              "      spin 1s steps(1) infinite;\n",
              "  }\n",
              "\n",
              "  @keyframes spin {\n",
              "    0% {\n",
              "      border-color: transparent;\n",
              "      border-bottom-color: var(--fill-color);\n",
              "      border-left-color: var(--fill-color);\n",
              "    }\n",
              "    20% {\n",
              "      border-color: transparent;\n",
              "      border-left-color: var(--fill-color);\n",
              "      border-top-color: var(--fill-color);\n",
              "    }\n",
              "    30% {\n",
              "      border-color: transparent;\n",
              "      border-left-color: var(--fill-color);\n",
              "      border-top-color: var(--fill-color);\n",
              "      border-right-color: var(--fill-color);\n",
              "    }\n",
              "    40% {\n",
              "      border-color: transparent;\n",
              "      border-right-color: var(--fill-color);\n",
              "      border-top-color: var(--fill-color);\n",
              "    }\n",
              "    60% {\n",
              "      border-color: transparent;\n",
              "      border-right-color: var(--fill-color);\n",
              "    }\n",
              "    80% {\n",
              "      border-color: transparent;\n",
              "      border-right-color: var(--fill-color);\n",
              "      border-bottom-color: var(--fill-color);\n",
              "    }\n",
              "    90% {\n",
              "      border-color: transparent;\n",
              "      border-bottom-color: var(--fill-color);\n",
              "    }\n",
              "  }\n",
              "</style>\n",
              "\n",
              "  <script>\n",
              "    async function quickchart(key) {\n",
              "      const quickchartButtonEl =\n",
              "        document.querySelector('#' + key + ' button');\n",
              "      quickchartButtonEl.disabled = true;  // To prevent multiple clicks.\n",
              "      quickchartButtonEl.classList.add('colab-df-spinner');\n",
              "      try {\n",
              "        const charts = await google.colab.kernel.invokeFunction(\n",
              "            'suggestCharts', [key], {});\n",
              "      } catch (error) {\n",
              "        console.error('Error during call to suggestCharts:', error);\n",
              "      }\n",
              "      quickchartButtonEl.classList.remove('colab-df-spinner');\n",
              "      quickchartButtonEl.classList.add('colab-df-quickchart-complete');\n",
              "    }\n",
              "    (() => {\n",
              "      let quickchartButtonEl =\n",
              "        document.querySelector('#df-1b0987e3-22c9-4e8d-9ed4-db436aa02309 button');\n",
              "      quickchartButtonEl.style.display =\n",
              "        google.colab.kernel.accessAllowed ? 'block' : 'none';\n",
              "    })();\n",
              "  </script>\n",
              "</div>\n",
              "    </div>\n",
              "  </div>\n"
            ]
          },
          "metadata": {},
          "execution_count": 218
        }
      ]
    },
    {
      "cell_type": "code",
      "source": [
        "# Define the standard deviation of the noise\n",
        "noise_stddev = 0.05  # Adjust this value as needed\n",
        "\n",
        "# Add random noise to the DataFrame\n",
        "noise = np.random.normal(0, noise_stddev, size=original_data_x.shape)\n",
        "original_data_x = original_data_x + noise"
      ],
      "metadata": {
        "id": "xd0MG7bVziN_"
      },
      "execution_count": 219,
      "outputs": []
    },
    {
      "cell_type": "code",
      "source": [
        "y = data.iloc[:,-1]\n",
        "y.head()"
      ],
      "metadata": {
        "colab": {
          "base_uri": "https://localhost:8080/"
        },
        "id": "20BofGcbxwwS",
        "outputId": "80f2a38f-d189-4bf0-e8ff-cbd7b75c2b29"
      },
      "execution_count": 220,
      "outputs": [
        {
          "output_type": "execute_result",
          "data": {
            "text/plain": [
              "0    162.769570\n",
              "1     55.230459\n",
              "2    102.697189\n",
              "3    148.317051\n",
              "4     71.315157\n",
              "Name: k, dtype: float64"
            ]
          },
          "metadata": {},
          "execution_count": 220
        }
      ]
    },
    {
      "cell_type": "code",
      "source": [
        "result = pd.concat([original_data_x, y], axis=1)\n",
        "result.head()"
      ],
      "metadata": {
        "colab": {
          "base_uri": "https://localhost:8080/",
          "height": 206
        },
        "id": "Ro1xADBc59ui",
        "outputId": "77ef9a9a-ecee-4380-c167-4dc32e41634c"
      },
      "execution_count": 221,
      "outputs": [
        {
          "output_type": "execute_result",
          "data": {
            "text/plain": [
              "            0        0.02        0.04        0.06        0.08         0.1  \\\n",
              "0  376.212182  376.146412  376.073824  375.911064  375.704433  375.567259   \n",
              "1  378.570211  378.212595  377.846440  377.457976  377.168870  376.732042   \n",
              "2  376.936173  376.732353  376.514248  376.399541  376.230080  376.052980   \n",
              "3  376.288257  376.113597  376.107511  375.850843  375.743657  375.632251   \n",
              "4  377.730910  377.552652  377.302104  376.924559  376.542269  376.475858   \n",
              "\n",
              "         0.12        0.14        0.16        0.18         0.2           k  \n",
              "0  375.465073  375.351743  375.201075  375.101880  374.956612  162.769570  \n",
              "1  376.484458  376.039027  375.713151  375.328626  374.916381   55.230459  \n",
              "2  375.742509  375.606677  375.393544  375.143565  374.984528  102.697189  \n",
              "3  375.436894  375.420943  375.227800  375.160421  375.019350  148.317051  \n",
              "4  376.206323  375.790254  375.627330  375.233625  374.971215   71.315157  "
            ],
            "text/html": [
              "\n",
              "  <div id=\"df-a6d99386-079d-4161-82ff-56d51c352729\" class=\"colab-df-container\">\n",
              "    <div>\n",
              "<style scoped>\n",
              "    .dataframe tbody tr th:only-of-type {\n",
              "        vertical-align: middle;\n",
              "    }\n",
              "\n",
              "    .dataframe tbody tr th {\n",
              "        vertical-align: top;\n",
              "    }\n",
              "\n",
              "    .dataframe thead th {\n",
              "        text-align: right;\n",
              "    }\n",
              "</style>\n",
              "<table border=\"1\" class=\"dataframe\">\n",
              "  <thead>\n",
              "    <tr style=\"text-align: right;\">\n",
              "      <th></th>\n",
              "      <th>0</th>\n",
              "      <th>0.02</th>\n",
              "      <th>0.04</th>\n",
              "      <th>0.06</th>\n",
              "      <th>0.08</th>\n",
              "      <th>0.1</th>\n",
              "      <th>0.12</th>\n",
              "      <th>0.14</th>\n",
              "      <th>0.16</th>\n",
              "      <th>0.18</th>\n",
              "      <th>0.2</th>\n",
              "      <th>k</th>\n",
              "    </tr>\n",
              "  </thead>\n",
              "  <tbody>\n",
              "    <tr>\n",
              "      <th>0</th>\n",
              "      <td>376.212182</td>\n",
              "      <td>376.146412</td>\n",
              "      <td>376.073824</td>\n",
              "      <td>375.911064</td>\n",
              "      <td>375.704433</td>\n",
              "      <td>375.567259</td>\n",
              "      <td>375.465073</td>\n",
              "      <td>375.351743</td>\n",
              "      <td>375.201075</td>\n",
              "      <td>375.101880</td>\n",
              "      <td>374.956612</td>\n",
              "      <td>162.769570</td>\n",
              "    </tr>\n",
              "    <tr>\n",
              "      <th>1</th>\n",
              "      <td>378.570211</td>\n",
              "      <td>378.212595</td>\n",
              "      <td>377.846440</td>\n",
              "      <td>377.457976</td>\n",
              "      <td>377.168870</td>\n",
              "      <td>376.732042</td>\n",
              "      <td>376.484458</td>\n",
              "      <td>376.039027</td>\n",
              "      <td>375.713151</td>\n",
              "      <td>375.328626</td>\n",
              "      <td>374.916381</td>\n",
              "      <td>55.230459</td>\n",
              "    </tr>\n",
              "    <tr>\n",
              "      <th>2</th>\n",
              "      <td>376.936173</td>\n",
              "      <td>376.732353</td>\n",
              "      <td>376.514248</td>\n",
              "      <td>376.399541</td>\n",
              "      <td>376.230080</td>\n",
              "      <td>376.052980</td>\n",
              "      <td>375.742509</td>\n",
              "      <td>375.606677</td>\n",
              "      <td>375.393544</td>\n",
              "      <td>375.143565</td>\n",
              "      <td>374.984528</td>\n",
              "      <td>102.697189</td>\n",
              "    </tr>\n",
              "    <tr>\n",
              "      <th>3</th>\n",
              "      <td>376.288257</td>\n",
              "      <td>376.113597</td>\n",
              "      <td>376.107511</td>\n",
              "      <td>375.850843</td>\n",
              "      <td>375.743657</td>\n",
              "      <td>375.632251</td>\n",
              "      <td>375.436894</td>\n",
              "      <td>375.420943</td>\n",
              "      <td>375.227800</td>\n",
              "      <td>375.160421</td>\n",
              "      <td>375.019350</td>\n",
              "      <td>148.317051</td>\n",
              "    </tr>\n",
              "    <tr>\n",
              "      <th>4</th>\n",
              "      <td>377.730910</td>\n",
              "      <td>377.552652</td>\n",
              "      <td>377.302104</td>\n",
              "      <td>376.924559</td>\n",
              "      <td>376.542269</td>\n",
              "      <td>376.475858</td>\n",
              "      <td>376.206323</td>\n",
              "      <td>375.790254</td>\n",
              "      <td>375.627330</td>\n",
              "      <td>375.233625</td>\n",
              "      <td>374.971215</td>\n",
              "      <td>71.315157</td>\n",
              "    </tr>\n",
              "  </tbody>\n",
              "</table>\n",
              "</div>\n",
              "    <div class=\"colab-df-buttons\">\n",
              "\n",
              "  <div class=\"colab-df-container\">\n",
              "    <button class=\"colab-df-convert\" onclick=\"convertToInteractive('df-a6d99386-079d-4161-82ff-56d51c352729')\"\n",
              "            title=\"Convert this dataframe to an interactive table.\"\n",
              "            style=\"display:none;\">\n",
              "\n",
              "  <svg xmlns=\"http://www.w3.org/2000/svg\" height=\"24px\" viewBox=\"0 -960 960 960\">\n",
              "    <path d=\"M120-120v-720h720v720H120Zm60-500h600v-160H180v160Zm220 220h160v-160H400v160Zm0 220h160v-160H400v160ZM180-400h160v-160H180v160Zm440 0h160v-160H620v160ZM180-180h160v-160H180v160Zm440 0h160v-160H620v160Z\"/>\n",
              "  </svg>\n",
              "    </button>\n",
              "\n",
              "  <style>\n",
              "    .colab-df-container {\n",
              "      display:flex;\n",
              "      gap: 12px;\n",
              "    }\n",
              "\n",
              "    .colab-df-convert {\n",
              "      background-color: #E8F0FE;\n",
              "      border: none;\n",
              "      border-radius: 50%;\n",
              "      cursor: pointer;\n",
              "      display: none;\n",
              "      fill: #1967D2;\n",
              "      height: 32px;\n",
              "      padding: 0 0 0 0;\n",
              "      width: 32px;\n",
              "    }\n",
              "\n",
              "    .colab-df-convert:hover {\n",
              "      background-color: #E2EBFA;\n",
              "      box-shadow: 0px 1px 2px rgba(60, 64, 67, 0.3), 0px 1px 3px 1px rgba(60, 64, 67, 0.15);\n",
              "      fill: #174EA6;\n",
              "    }\n",
              "\n",
              "    .colab-df-buttons div {\n",
              "      margin-bottom: 4px;\n",
              "    }\n",
              "\n",
              "    [theme=dark] .colab-df-convert {\n",
              "      background-color: #3B4455;\n",
              "      fill: #D2E3FC;\n",
              "    }\n",
              "\n",
              "    [theme=dark] .colab-df-convert:hover {\n",
              "      background-color: #434B5C;\n",
              "      box-shadow: 0px 1px 3px 1px rgba(0, 0, 0, 0.15);\n",
              "      filter: drop-shadow(0px 1px 2px rgba(0, 0, 0, 0.3));\n",
              "      fill: #FFFFFF;\n",
              "    }\n",
              "  </style>\n",
              "\n",
              "    <script>\n",
              "      const buttonEl =\n",
              "        document.querySelector('#df-a6d99386-079d-4161-82ff-56d51c352729 button.colab-df-convert');\n",
              "      buttonEl.style.display =\n",
              "        google.colab.kernel.accessAllowed ? 'block' : 'none';\n",
              "\n",
              "      async function convertToInteractive(key) {\n",
              "        const element = document.querySelector('#df-a6d99386-079d-4161-82ff-56d51c352729');\n",
              "        const dataTable =\n",
              "          await google.colab.kernel.invokeFunction('convertToInteractive',\n",
              "                                                    [key], {});\n",
              "        if (!dataTable) return;\n",
              "\n",
              "        const docLinkHtml = 'Like what you see? Visit the ' +\n",
              "          '<a target=\"_blank\" href=https://colab.research.google.com/notebooks/data_table.ipynb>data table notebook</a>'\n",
              "          + ' to learn more about interactive tables.';\n",
              "        element.innerHTML = '';\n",
              "        dataTable['output_type'] = 'display_data';\n",
              "        await google.colab.output.renderOutput(dataTable, element);\n",
              "        const docLink = document.createElement('div');\n",
              "        docLink.innerHTML = docLinkHtml;\n",
              "        element.appendChild(docLink);\n",
              "      }\n",
              "    </script>\n",
              "  </div>\n",
              "\n",
              "\n",
              "<div id=\"df-b73093ca-354d-4bff-a016-e6018fce7da2\">\n",
              "  <button class=\"colab-df-quickchart\" onclick=\"quickchart('df-b73093ca-354d-4bff-a016-e6018fce7da2')\"\n",
              "            title=\"Suggest charts\"\n",
              "            style=\"display:none;\">\n",
              "\n",
              "<svg xmlns=\"http://www.w3.org/2000/svg\" height=\"24px\"viewBox=\"0 0 24 24\"\n",
              "     width=\"24px\">\n",
              "    <g>\n",
              "        <path d=\"M19 3H5c-1.1 0-2 .9-2 2v14c0 1.1.9 2 2 2h14c1.1 0 2-.9 2-2V5c0-1.1-.9-2-2-2zM9 17H7v-7h2v7zm4 0h-2V7h2v10zm4 0h-2v-4h2v4z\"/>\n",
              "    </g>\n",
              "</svg>\n",
              "  </button>\n",
              "\n",
              "<style>\n",
              "  .colab-df-quickchart {\n",
              "      --bg-color: #E8F0FE;\n",
              "      --fill-color: #1967D2;\n",
              "      --hover-bg-color: #E2EBFA;\n",
              "      --hover-fill-color: #174EA6;\n",
              "      --disabled-fill-color: #AAA;\n",
              "      --disabled-bg-color: #DDD;\n",
              "  }\n",
              "\n",
              "  [theme=dark] .colab-df-quickchart {\n",
              "      --bg-color: #3B4455;\n",
              "      --fill-color: #D2E3FC;\n",
              "      --hover-bg-color: #434B5C;\n",
              "      --hover-fill-color: #FFFFFF;\n",
              "      --disabled-bg-color: #3B4455;\n",
              "      --disabled-fill-color: #666;\n",
              "  }\n",
              "\n",
              "  .colab-df-quickchart {\n",
              "    background-color: var(--bg-color);\n",
              "    border: none;\n",
              "    border-radius: 50%;\n",
              "    cursor: pointer;\n",
              "    display: none;\n",
              "    fill: var(--fill-color);\n",
              "    height: 32px;\n",
              "    padding: 0;\n",
              "    width: 32px;\n",
              "  }\n",
              "\n",
              "  .colab-df-quickchart:hover {\n",
              "    background-color: var(--hover-bg-color);\n",
              "    box-shadow: 0 1px 2px rgba(60, 64, 67, 0.3), 0 1px 3px 1px rgba(60, 64, 67, 0.15);\n",
              "    fill: var(--button-hover-fill-color);\n",
              "  }\n",
              "\n",
              "  .colab-df-quickchart-complete:disabled,\n",
              "  .colab-df-quickchart-complete:disabled:hover {\n",
              "    background-color: var(--disabled-bg-color);\n",
              "    fill: var(--disabled-fill-color);\n",
              "    box-shadow: none;\n",
              "  }\n",
              "\n",
              "  .colab-df-spinner {\n",
              "    border: 2px solid var(--fill-color);\n",
              "    border-color: transparent;\n",
              "    border-bottom-color: var(--fill-color);\n",
              "    animation:\n",
              "      spin 1s steps(1) infinite;\n",
              "  }\n",
              "\n",
              "  @keyframes spin {\n",
              "    0% {\n",
              "      border-color: transparent;\n",
              "      border-bottom-color: var(--fill-color);\n",
              "      border-left-color: var(--fill-color);\n",
              "    }\n",
              "    20% {\n",
              "      border-color: transparent;\n",
              "      border-left-color: var(--fill-color);\n",
              "      border-top-color: var(--fill-color);\n",
              "    }\n",
              "    30% {\n",
              "      border-color: transparent;\n",
              "      border-left-color: var(--fill-color);\n",
              "      border-top-color: var(--fill-color);\n",
              "      border-right-color: var(--fill-color);\n",
              "    }\n",
              "    40% {\n",
              "      border-color: transparent;\n",
              "      border-right-color: var(--fill-color);\n",
              "      border-top-color: var(--fill-color);\n",
              "    }\n",
              "    60% {\n",
              "      border-color: transparent;\n",
              "      border-right-color: var(--fill-color);\n",
              "    }\n",
              "    80% {\n",
              "      border-color: transparent;\n",
              "      border-right-color: var(--fill-color);\n",
              "      border-bottom-color: var(--fill-color);\n",
              "    }\n",
              "    90% {\n",
              "      border-color: transparent;\n",
              "      border-bottom-color: var(--fill-color);\n",
              "    }\n",
              "  }\n",
              "</style>\n",
              "\n",
              "  <script>\n",
              "    async function quickchart(key) {\n",
              "      const quickchartButtonEl =\n",
              "        document.querySelector('#' + key + ' button');\n",
              "      quickchartButtonEl.disabled = true;  // To prevent multiple clicks.\n",
              "      quickchartButtonEl.classList.add('colab-df-spinner');\n",
              "      try {\n",
              "        const charts = await google.colab.kernel.invokeFunction(\n",
              "            'suggestCharts', [key], {});\n",
              "      } catch (error) {\n",
              "        console.error('Error during call to suggestCharts:', error);\n",
              "      }\n",
              "      quickchartButtonEl.classList.remove('colab-df-spinner');\n",
              "      quickchartButtonEl.classList.add('colab-df-quickchart-complete');\n",
              "    }\n",
              "    (() => {\n",
              "      let quickchartButtonEl =\n",
              "        document.querySelector('#df-b73093ca-354d-4bff-a016-e6018fce7da2 button');\n",
              "      quickchartButtonEl.style.display =\n",
              "        google.colab.kernel.accessAllowed ? 'block' : 'none';\n",
              "    })();\n",
              "  </script>\n",
              "</div>\n",
              "    </div>\n",
              "  </div>\n"
            ]
          },
          "metadata": {},
          "execution_count": 221
        }
      ]
    },
    {
      "cell_type": "code",
      "source": [
        "# from sklearn.preprocessing import StandardScaler\n",
        "# #Create a StandardScaler instance\n",
        "# scaler = StandardScaler()\n",
        "\n",
        "# # Standardize the DataFrame and create a new DataFrame\n",
        "# result = pd.DataFrame(scaler.fit_transform(result), columns=result.columns)"
      ],
      "metadata": {
        "id": "lCcy6Njc0z_G"
      },
      "execution_count": 121,
      "outputs": []
    },
    {
      "cell_type": "code",
      "source": [
        "import pandas as pd\n",
        "from sklearn.preprocessing import MinMaxScaler\n",
        "\n",
        "# Create a MinMaxScaler instance\n",
        "scaler = MinMaxScaler()\n",
        "\n",
        "# Normalize the DataFrame and create a new DataFrame\n",
        "result = pd.DataFrame(scaler.fit_transform(result), columns=result.columns)\n",
        "\n",
        "print(\"\\nNormalized DataFrame:\")\n",
        "print(result)"
      ],
      "metadata": {
        "id": "2FTge8E4QGYd",
        "colab": {
          "base_uri": "https://localhost:8080/"
        },
        "outputId": "4c7fad5f-6b44-42f3-fc65-a79a828a307e"
      },
      "execution_count": 222,
      "outputs": [
        {
          "output_type": "stream",
          "name": "stdout",
          "text": [
            "\n",
            "Normalized DataFrame:\n",
            "            0      0.02      0.04      0.06      0.08       0.1      0.12  \\\n",
            "0    0.014733  0.020066  0.023613  0.024682  0.016794  0.017406  0.020155   \n",
            "1    0.142746  0.144441  0.144013  0.144818  0.147917  0.143172  0.157563   \n",
            "2    0.054038  0.055337  0.053528  0.062618  0.063859  0.069851  0.057552   \n",
            "3    0.018863  0.018090  0.025901  0.020005  0.020306  0.024424  0.016356   \n",
            "4    0.097182  0.104715  0.107041  0.103392  0.091812  0.115511  0.120072   \n",
            "..        ...       ...       ...       ...       ...       ...       ...   \n",
            "995  0.012763  0.015728  0.013663  0.020636  0.009807  0.025232  0.015385   \n",
            "996  0.009426  0.012932  0.014731  0.010430  0.010501  0.006223  0.013894   \n",
            "997  0.075681  0.084752  0.086941  0.084051  0.083849  0.083896  0.093074   \n",
            "998  0.022676  0.025765  0.025404  0.035955  0.029290  0.037117  0.028126   \n",
            "999  0.012262  0.018898  0.017551  0.021703  0.019423  0.019621  0.021619   \n",
            "\n",
            "         0.14      0.16      0.18       0.2         k  \n",
            "0    0.036023  0.028440  0.079708  0.393113  0.806497  \n",
            "1    0.157181  0.165001  0.193612  0.266712  0.237454  \n",
            "2    0.080964  0.079768  0.100648  0.480819  0.488624  \n",
            "3    0.048222  0.035567  0.109115  0.590225  0.730021  \n",
            "4    0.113326  0.142114  0.145889  0.438991  0.322566  \n",
            "..        ...       ...       ...       ...       ...  \n",
            "995  0.035278  0.049552  0.028541  0.707336  0.850865  \n",
            "996  0.027472  0.010849  0.052164  0.570912  0.915277  \n",
            "997  0.097993  0.085688  0.168652  0.382200  0.389210  \n",
            "998  0.053763  0.060800  0.083064  0.752923  0.687236  \n",
            "999  0.031698  0.028779  0.104968  0.553321  0.784261  \n",
            "\n",
            "[1000 rows x 12 columns]\n"
          ]
        }
      ]
    },
    {
      "cell_type": "code",
      "source": [
        "result = result.sample(frac=1.0, random_state=100)  # Set a random_state for reproducibility"
      ],
      "metadata": {
        "id": "i-kcGlum7EfA"
      },
      "execution_count": 223,
      "outputs": []
    },
    {
      "cell_type": "code",
      "source": [
        "x_train = result.iloc[:900,:-1]\n",
        "x_test = result.iloc[900:,:-1]\n",
        "x_train.shape, x_test.shape"
      ],
      "metadata": {
        "colab": {
          "base_uri": "https://localhost:8080/"
        },
        "id": "cH4AoqRpx2HI",
        "outputId": "065000e6-1b3c-4aaf-8ca1-7a01dd54fb04"
      },
      "execution_count": 224,
      "outputs": [
        {
          "output_type": "execute_result",
          "data": {
            "text/plain": [
              "((900, 11), (100, 11))"
            ]
          },
          "metadata": {},
          "execution_count": 224
        }
      ]
    },
    {
      "cell_type": "code",
      "source": [
        "y_train = result.iloc[:900,-1]\n",
        "y_test = result.iloc[900:,-1]\n",
        "y_train.shape, y_test.shape"
      ],
      "metadata": {
        "colab": {
          "base_uri": "https://localhost:8080/"
        },
        "id": "S3ELZgkPyESz",
        "outputId": "3a2d4e72-d349-40c3-91d0-5fce8344336c"
      },
      "execution_count": 225,
      "outputs": [
        {
          "output_type": "execute_result",
          "data": {
            "text/plain": [
              "((900,), (100,))"
            ]
          },
          "metadata": {},
          "execution_count": 225
        }
      ]
    },
    {
      "cell_type": "code",
      "source": [
        "# Load Toy Example Data\n",
        "training_feature = x_train\n",
        "ground_truth_k = y_train\n",
        "\n",
        "testing_feature_sk = x_test\n",
        "testing_score = y_test\n",
        "\n",
        "original_dim = training_feature.shape[1]\n",
        "num_train = training_feature.shape[0]"
      ],
      "metadata": {
        "id": "Ig2DNrIIyN-6"
      },
      "execution_count": 226,
      "outputs": []
    },
    {
      "cell_type": "code",
      "source": [
        "## Build VAE-Regression Model\n",
        "input_shape_x = (original_dim, )\n",
        "input_shape_k = (1, )\n",
        "\n",
        "intermediate_dim_1 = 8\n",
        "intermediate_dim_2 = 5\n",
        "intermediate_dim_3 = 3\n",
        "batch_size = 1\n",
        "latent_dim = 1\n",
        "epochs = 100 # max number of epochs\n",
        "\n",
        "# VAE model = encoder + decoder\n",
        "# build encoder model\n",
        "\n",
        "inputs_x = Input(shape=input_shape_x, name='temp_input')\n",
        "inputs_k = Input(shape=input_shape_k, name='ground_truth')\n",
        "\n",
        "inter_x1 = Dense(intermediate_dim_1, activation='tanh', name='encoder_intermediate_1')(inputs_x)\n",
        "inter_x2 = Dense(intermediate_dim_2, activation='tanh', name='encoder_intermediate_2')(inter_x1)\n",
        "inter_x3 = Dense(intermediate_dim_3, activation='tanh', name='encoder_intermediate_3')(inter_x2)\n",
        "\n",
        "# q(z|x)\n",
        "z_mean = Dense(latent_dim, name='z_mean')(inter_x3)\n",
        "z_log_var = Dense(latent_dim, name='z_log_var')(inter_x3)\n",
        "\n",
        "# use reparameterization trick to push the sampling out as input\n",
        "z = Lambda(sampling, output_shape=(latent_dim,), name='z')([z_mean, z_log_var])\n",
        "\n",
        "encoder = Model([inputs_x,inputs_k], [z_mean, z_log_var, z], name='encoder')\n",
        "encoder.summary()\n",
        "\n",
        "# build decoder model\n",
        "latent_inputs = Input(shape=(latent_dim,), name='z_sampling')\n",
        "inter_y1 = Dense(intermediate_dim_3, activation='tanh')(latent_inputs)\n",
        "inter_y2 = Dense(intermediate_dim_2, activation='tanh')(inter_y1)\n",
        "inter_y3 = Dense(intermediate_dim_1, activation='tanh')(inter_y2)\n",
        "outputs = Dense(original_dim, activation = 'linear')(inter_y3)\n",
        "\n",
        "# instantiate decoder model\n",
        "decoder = Model(latent_inputs, outputs, name='decoder')\n",
        "decoder.summary()\n",
        "\n",
        "outputs = decoder(encoder([inputs_x,inputs_k])[2])\n",
        "vae = Model([inputs_x,inputs_k], [outputs], name='vae_mlp')\n",
        "vae.summary()"
      ],
      "metadata": {
        "colab": {
          "base_uri": "https://localhost:8080/"
        },
        "id": "ZhbiV-WoyQEe",
        "outputId": "bc7392e3-6c04-4e79-e53d-d48bc24ddd43"
      },
      "execution_count": 227,
      "outputs": [
        {
          "output_type": "stream",
          "name": "stdout",
          "text": [
            "Model: \"encoder\"\n",
            "__________________________________________________________________________________________________\n",
            " Layer (type)                Output Shape                 Param #   Connected to                  \n",
            "==================================================================================================\n",
            " temp_input (InputLayer)     [(None, 11)]                 0         []                            \n",
            "                                                                                                  \n",
            " encoder_intermediate_1 (De  (None, 8)                    96        ['temp_input[0][0]']          \n",
            " nse)                                                                                             \n",
            "                                                                                                  \n",
            " encoder_intermediate_2 (De  (None, 5)                    45        ['encoder_intermediate_1[0][0]\n",
            " nse)                                                               ']                            \n",
            "                                                                                                  \n",
            " encoder_intermediate_3 (De  (None, 3)                    18        ['encoder_intermediate_2[0][0]\n",
            " nse)                                                               ']                            \n",
            "                                                                                                  \n",
            " z_mean (Dense)              (None, 1)                    4         ['encoder_intermediate_3[0][0]\n",
            "                                                                    ']                            \n",
            "                                                                                                  \n",
            " z_log_var (Dense)           (None, 1)                    4         ['encoder_intermediate_3[0][0]\n",
            "                                                                    ']                            \n",
            "                                                                                                  \n",
            " ground_truth (InputLayer)   [(None, 1)]                  0         []                            \n",
            "                                                                                                  \n",
            " z (Lambda)                  (None, 1)                    0         ['z_mean[0][0]',              \n",
            "                                                                     'z_log_var[0][0]']           \n",
            "                                                                                                  \n",
            "==================================================================================================\n",
            "Total params: 167 (668.00 Byte)\n",
            "Trainable params: 167 (668.00 Byte)\n",
            "Non-trainable params: 0 (0.00 Byte)\n",
            "__________________________________________________________________________________________________\n",
            "Model: \"decoder\"\n",
            "_________________________________________________________________\n",
            " Layer (type)                Output Shape              Param #   \n",
            "=================================================================\n",
            " z_sampling (InputLayer)     [(None, 1)]               0         \n",
            "                                                                 \n",
            " dense (Dense)               (None, 3)                 6         \n",
            "                                                                 \n",
            " dense_1 (Dense)             (None, 5)                 20        \n",
            "                                                                 \n",
            " dense_2 (Dense)             (None, 8)                 48        \n",
            "                                                                 \n",
            " dense_3 (Dense)             (None, 11)                99        \n",
            "                                                                 \n",
            "=================================================================\n",
            "Total params: 173 (692.00 Byte)\n",
            "Trainable params: 173 (692.00 Byte)\n",
            "Non-trainable params: 0 (0.00 Byte)\n",
            "_________________________________________________________________\n",
            "Model: \"vae_mlp\"\n",
            "__________________________________________________________________________________________________\n",
            " Layer (type)                Output Shape                 Param #   Connected to                  \n",
            "==================================================================================================\n",
            " temp_input (InputLayer)     [(None, 11)]                 0         []                            \n",
            "                                                                                                  \n",
            " ground_truth (InputLayer)   [(None, 1)]                  0         []                            \n",
            "                                                                                                  \n",
            " encoder (Functional)        [(None, 1),                  167       ['temp_input[0][0]',          \n",
            "                              (None, 1),                             'ground_truth[0][0]']        \n",
            "                              (None, 1)]                                                          \n",
            "                                                                                                  \n",
            " decoder (Functional)        (None, 11)                   173       ['encoder[0][2]']             \n",
            "                                                                                                  \n",
            "==================================================================================================\n",
            "Total params: 340 (1.33 KB)\n",
            "Trainable params: 340 (1.33 KB)\n",
            "Non-trainable params: 0 (0.00 Byte)\n",
            "__________________________________________________________________________________________________\n"
          ]
        }
      ]
    },
    {
      "cell_type": "markdown",
      "source": [
        "## Loss Function"
      ],
      "metadata": {
        "id": "GK0fDHoFs557"
      }
    },
    {
      "cell_type": "markdown",
      "source": [
        "![Screenshot 2023-12-28 121408.png](data:image/png;base64,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)"
      ],
      "metadata": {
        "id": "q1rkd7l0Ku0_"
      }
    },
    {
      "cell_type": "code",
      "source": [
        "def kl_divergence_multivariate_normal_keras(mu_p, log_var_p, mu_q, log_var_q):\n",
        "    sigma_p = K.exp(log_var_p)            ## log variance to variance\n",
        "    sigma_q = K.exp(log_var_q)\n",
        "\n",
        "    term1 = K.sum(sigma_p / sigma_q)\n",
        "    term2 = K.sum(K.square(mu_q - mu_p) / sigma_q)\n",
        "    term3 = -1\n",
        "    term4 = K.sum(log_var_q - log_var_p)\n",
        "\n",
        "    return 0.5 * (term1 + term2 + term3 + term4)"
      ],
      "metadata": {
        "id": "OrfdubljCjbd"
      },
      "execution_count": 228,
      "outputs": []
    },
    {
      "cell_type": "code",
      "source": [
        "import tensorflow as tf\n",
        "import numpy as np\n",
        "\n",
        "# Define x_values as a sequence from 0 to 0.2 with a spacing of 0.02\n",
        "x_values = np.linspace(0, 0.2, 11, dtype=np.float32)\n",
        "\n",
        "# Ensure x_values is a TensorFlow tensor for compatibility with GradientTape operations\n",
        "x_values_tensor = tf.convert_to_tensor(x_values, dtype=tf.float32)"
      ],
      "metadata": {
        "id": "-QtTWdMunVIo"
      },
      "execution_count": 129,
      "outputs": []
    },
    {
      "cell_type": "code",
      "source": [
        "def compute_second_derivative(outputs, x_values):\n",
        "    with tf.GradientTape() as tape2:\n",
        "        tape2.watch(x_values)\n",
        "        with tf.GradientTape() as tape1:\n",
        "            tape1.watch(x_values)\n",
        "            T_pred = outputs\n",
        "        dT_dx = tape1.gradient(T_pred, x_values)\n",
        "    d2T_dx2 = tape2.gradient(dT_dx, x_values)\n",
        "    return d2T_dx2\n",
        "\n",
        "def compute_pinn_loss(outputs, x_values):\n",
        "    d2T_dx2 = compute_second_derivative(outputs, x_values)\n",
        "    pinn_loss = tf.reduce_mean(tf.square(d2T_dx2))\n",
        "    return pinn_loss"
      ],
      "metadata": {
        "id": "-TsMe2hNnc8P"
      },
      "execution_count": 179,
      "outputs": []
    },
    {
      "cell_type": "code",
      "source": [
        "from tensorflow.keras.optimizers import Adam\n",
        "import numpy as np\n",
        "from numpy.linalg import det, inv\n",
        "\n",
        "##Customize Lost Function of the VAE Model\n",
        "models = (encoder, decoder)\n",
        "\n",
        "reconstruction_loss = mse(inputs_x,outputs)\n",
        "reconstruction_loss = K.abs(reconstruction_loss)\n",
        "\n",
        "\n",
        "kl_loss = kl_divergence_multivariate_normal_keras(inputs_k, K.constant([0.0]), z_mean, z_log_var)\n",
        "\n",
        "label_loss = kl_divergence_multivariate_normal_keras(z_mean, z_log_var, inputs_k, K.constant([0.0]))\n",
        "\n",
        "# pinn_loss = compute_pinn_loss(outputs, x_values_tensor)\n",
        "vae_loss = K.mean(reconstruction_loss + kl_loss + label_loss)\n",
        "\n",
        "vae.add_loss(vae_loss)\n",
        "optimizer = Adam(learning_rate=0.01)  # Adjust the learning rate value as needed\n",
        "vae.compile(optimizer=optimizer)\n",
        "vae.summary()\n",
        "vae.save_weights('random_weights.h5')"
      ],
      "metadata": {
        "colab": {
          "base_uri": "https://localhost:8080/"
        },
        "id": "qSZzZaE8xvm1",
        "outputId": "6ae0c218-08f5-414f-b79e-30cd16e32265"
      },
      "execution_count": 180,
      "outputs": [
        {
          "output_type": "stream",
          "name": "stdout",
          "text": [
            "Model: \"vae_mlp\"\n",
            "__________________________________________________________________________________________________\n",
            " Layer (type)                Output Shape                 Param #   Connected to                  \n",
            "==================================================================================================\n",
            " temp_input (InputLayer)     [(None, 11)]                 0         []                            \n",
            "                                                                                                  \n",
            " ground_truth (InputLayer)   [(None, 1)]                  0         []                            \n",
            "                                                                                                  \n",
            " encoder (Functional)        [(None, 1),                  167       ['temp_input[0][0]',          \n",
            "                              (None, 1),                             'ground_truth[0][0]']        \n",
            "                              (None, 1)]                                                          \n",
            "                                                                                                  \n",
            " decoder (Functional)        (None, 11)                   173       ['encoder[0][2]']             \n",
            "                                                                                                  \n",
            " encoder_intermediate_1 (De  (None, 8)                    96        ['temp_input[0][0]']          \n",
            " nse)                                                                                             \n",
            "                                                                                                  \n",
            " encoder_intermediate_2 (De  (None, 5)                    45        ['encoder_intermediate_1[0][0]\n",
            " nse)                                                               ']                            \n",
            "                                                                                                  \n",
            " encoder_intermediate_3 (De  (None, 3)                    18        ['encoder_intermediate_2[0][0]\n",
            " nse)                                                               ']                            \n",
            "                                                                                                  \n",
            " z_mean (Dense)              (None, 1)                    4         ['encoder_intermediate_3[0][0]\n",
            "                                                                    ']                            \n",
            "                                                                                                  \n",
            " z_log_var (Dense)           (None, 1)                    4         ['encoder_intermediate_3[0][0]\n",
            "                                                                    ']                            \n",
            "                                                                                                  \n",
            " tf.math.subtract (TFOpLamb  (None, 1)                    0         ['z_mean[0][0]',              \n",
            " da)                                                                 'ground_truth[0][0]']        \n",
            "                                                                                                  \n",
            " tf.math.exp (TFOpLambda)    (None, 1)                    0         ['z_log_var[0][0]']           \n",
            "                                                                                                  \n",
            " tf.math.square (TFOpLambda  (None, 1)                    0         ['tf.math.subtract[0][0]']    \n",
            " )                                                                                                \n",
            "                                                                                                  \n",
            " tf.math.subtract_2 (TFOpLa  (None, 1)                    0         ['ground_truth[0][0]',        \n",
            " mbda)                                                               'z_mean[0][0]']              \n",
            "                                                                                                  \n",
            " tf.math.truediv (TFOpLambd  (None, 1)                    0         ['tf.math.exp[0][0]']         \n",
            " a)                                                                                               \n",
            "                                                                                                  \n",
            " tf.math.truediv_1 (TFOpLam  (None, 1)                    0         ['tf.math.square[0][0]',      \n",
            " bda)                                                                'tf.math.exp[0][0]']         \n",
            "                                                                                                  \n",
            " tf.math.exp_1 (TFOpLambda)  (None, 1)                    0         ['z_log_var[0][0]']           \n",
            "                                                                                                  \n",
            " tf.math.square_1 (TFOpLamb  (None, 1)                    0         ['tf.math.subtract_2[0][0]']  \n",
            " da)                                                                                              \n",
            "                                                                                                  \n",
            " tf.math.reduce_sum (TFOpLa  ()                           0         ['tf.math.truediv[0][0]']     \n",
            " mbda)                                                                                            \n",
            "                                                                                                  \n",
            " tf.math.reduce_sum_1 (TFOp  ()                           0         ['tf.math.truediv_1[0][0]']   \n",
            " Lambda)                                                                                          \n",
            "                                                                                                  \n",
            " tf.math.truediv_2 (TFOpLam  (None, 1)                    0         ['tf.math.exp_1[0][0]']       \n",
            " bda)                                                                                             \n",
            "                                                                                                  \n",
            " tf.math.truediv_3 (TFOpLam  (None, 1)                    0         ['tf.math.square_1[0][0]']    \n",
            " bda)                                                                                             \n",
            "                                                                                                  \n",
            " tf.convert_to_tensor (TFOp  (None, 11)                   0         ['decoder[0][0]']             \n",
            " Lambda)                                                                                          \n",
            "                                                                                                  \n",
            " tf.cast (TFOpLambda)        (None, 11)                   0         ['temp_input[0][0]']          \n",
            "                                                                                                  \n",
            " tf.__operators__.add (TFOp  ()                           0         ['tf.math.reduce_sum[0][0]',  \n",
            " Lambda)                                                             'tf.math.reduce_sum_1[0][0]']\n",
            "                                                                                                  \n",
            " tf.math.subtract_1 (TFOpLa  (None, 1)                    0         ['z_log_var[0][0]']           \n",
            " mbda)                                                                                            \n",
            "                                                                                                  \n",
            " tf.math.reduce_sum_3 (TFOp  ()                           0         ['tf.math.truediv_2[0][0]']   \n",
            " Lambda)                                                                                          \n",
            "                                                                                                  \n",
            " tf.math.reduce_sum_4 (TFOp  ()                           0         ['tf.math.truediv_3[0][0]']   \n",
            " Lambda)                                                                                          \n",
            "                                                                                                  \n",
            " tf.math.squared_difference  (None, 11)                   0         ['tf.convert_to_tensor[0][0]',\n",
            "  (TFOpLambda)                                                       'tf.cast[0][0]']             \n",
            "                                                                                                  \n",
            " tf.__operators__.add_1 (TF  ()                           0         ['tf.__operators__.add[0][0]']\n",
            " OpLambda)                                                                                        \n",
            "                                                                                                  \n",
            " tf.math.reduce_sum_2 (TFOp  ()                           0         ['tf.math.subtract_1[0][0]']  \n",
            " Lambda)                                                                                          \n",
            "                                                                                                  \n",
            " tf.__operators__.add_3 (TF  ()                           0         ['tf.math.reduce_sum_3[0][0]',\n",
            " OpLambda)                                                           'tf.math.reduce_sum_4[0][0]']\n",
            "                                                                                                  \n",
            " tf.math.subtract_3 (TFOpLa  (None, 1)                    0         ['z_log_var[0][0]']           \n",
            " mbda)                                                                                            \n",
            "                                                                                                  \n",
            " tf.math.reduce_mean (TFOpL  (None,)                      0         ['tf.math.squared_difference[0\n",
            " ambda)                                                             ][0]']                        \n",
            "                                                                                                  \n",
            " tf.__operators__.add_2 (TF  ()                           0         ['tf.__operators__.add_1[0][0]\n",
            " OpLambda)                                                          ',                            \n",
            "                                                                     'tf.math.reduce_sum_2[0][0]']\n",
            "                                                                                                  \n",
            " tf.__operators__.add_4 (TF  ()                           0         ['tf.__operators__.add_3[0][0]\n",
            " OpLambda)                                                          ']                            \n",
            "                                                                                                  \n",
            " tf.math.reduce_sum_5 (TFOp  ()                           0         ['tf.math.subtract_3[0][0]']  \n",
            " Lambda)                                                                                          \n",
            "                                                                                                  \n",
            " tf.math.abs (TFOpLambda)    (None,)                      0         ['tf.math.reduce_mean[0][0]'] \n",
            "                                                                                                  \n",
            " tf.math.multiply (TFOpLamb  ()                           0         ['tf.__operators__.add_2[0][0]\n",
            " da)                                                                ']                            \n",
            "                                                                                                  \n",
            " tf.__operators__.add_5 (TF  ()                           0         ['tf.__operators__.add_4[0][0]\n",
            " OpLambda)                                                          ',                            \n",
            "                                                                     'tf.math.reduce_sum_5[0][0]']\n",
            "                                                                                                  \n",
            " tf.__operators__.add_6 (TF  (None,)                      0         ['tf.math.abs[0][0]',         \n",
            " OpLambda)                                                           'tf.math.multiply[0][0]']    \n",
            "                                                                                                  \n",
            " tf.math.multiply_1 (TFOpLa  ()                           0         ['tf.__operators__.add_5[0][0]\n",
            " mbda)                                                              ']                            \n",
            "                                                                                                  \n",
            " tf.__operators__.add_7 (TF  (None,)                      0         ['tf.__operators__.add_6[0][0]\n",
            " OpLambda)                                                          ',                            \n",
            "                                                                     'tf.math.multiply_1[0][0]']  \n",
            "                                                                                                  \n",
            " tf.math.reduce_mean_1 (TFO  ()                           0         ['tf.__operators__.add_7[0][0]\n",
            " pLambda)                                                           ']                            \n",
            "                                                                                                  \n",
            " add_loss (AddLoss)          ()                           0         ['tf.math.reduce_mean_1[0][0]'\n",
            "                                                                    ]                             \n",
            "                                                                                                  \n",
            "==================================================================================================\n",
            "Total params: 340 (1.33 KB)\n",
            "Trainable params: 340 (1.33 KB)\n",
            "Non-trainable params: 0 (0.00 Byte)\n",
            "__________________________________________________________________________________________________\n"
          ]
        }
      ]
    },
    {
      "cell_type": "code",
      "source": [
        "# import tensorflow as tf\n",
        "\n",
        "# # Example function for demonstration purposes\n",
        "# def compute_inputs_k(x):\n",
        "#     # Assuming inputs_k is some function of x; replace with your actual computation\n",
        "#     return x ** 2 + 3 * x + 5\n",
        "\n",
        "# # Placeholder for x; replace with your actual tensor\n",
        "# x = tf.Variable(1.0, dtype=tf.float32)\n",
        "# print(x)\n",
        "# with tf.GradientTape() as tape2:\n",
        "#     tape2.watch(x)\n",
        "#     with tf.GradientTape() as tape1:\n",
        "#         tape1.watch(x)\n",
        "#         inputs_k = compute_inputs_k(x)\n",
        "#     # First derivative of inputs_k with respect to x\n",
        "#     first_derivative = tape1.gradient(inputs_k, x)\n",
        "# # Second derivative of inputs_k with respect to x\n",
        "# second_derivative = tape2.gradient(first_derivative, x)\n",
        "\n",
        "# print(\"First derivative:\", first_derivative.numpy())\n",
        "# print(\"Second derivative:\", second_derivative.numpy())"
      ],
      "metadata": {
        "id": "Svb9dwm71gg2"
      },
      "execution_count": 132,
      "outputs": []
    },
    {
      "cell_type": "markdown",
      "source": [
        "# Stop when validation loss does not improves"
      ],
      "metadata": {
        "id": "9FKlno4cCHQY"
      }
    },
    {
      "cell_type": "code",
      "source": [
        "from tensorflow.keras.callbacks import EarlyStopping, ModelCheckpoint\n",
        "import matplotlib.pyplot as plt\n",
        "\n",
        "# Define callbacks\n",
        "early_stopping = EarlyStopping(monitor='val_loss', patience=5, verbose=1, mode='min')\n",
        "model_checkpoint = ModelCheckpoint('best_model.h5', monitor='val_loss', save_best_only=True, mode='min')\n",
        "\n",
        "# Train the model with validation data and callbacks\n",
        "history = vae.fit([x_train, y_train],x_train,\n",
        "                  epochs=100,\n",
        "                  batch_size=batch_size,\n",
        "                  validation_data=([x_test, y_test], x_test),\n",
        "                  callbacks=[early_stopping, model_checkpoint])\n",
        "\n",
        "# Plot training & validation loss values\n",
        "plt.figure(figsize=(8, 4))\n",
        "plt.plot(history.history['loss'], label='Training Loss')\n",
        "plt.plot(history.history['val_loss'], label='Validation Loss')\n",
        "plt.title('Model Loss')\n",
        "plt.ylabel('Loss')\n",
        "plt.xlabel('Epoch')\n",
        "plt.legend(['Train', 'Test'], loc='upper right')\n",
        "plt.show()"
      ],
      "metadata": {
        "id": "AKz7-ZT04gD4",
        "colab": {
          "base_uri": "https://localhost:8080/",
          "height": 886
        },
        "outputId": "8c0b6256-fa59-4a7e-c230-85cc4c0085d1"
      },
      "execution_count": 181,
      "outputs": [
        {
          "output_type": "stream",
          "name": "stdout",
          "text": [
            "Epoch 1/100\n",
            "884/900 [============================>.] - ETA: 0s - loss: 0.0466"
          ]
        },
        {
          "output_type": "stream",
          "name": "stderr",
          "text": [
            "/usr/local/lib/python3.10/dist-packages/keras/src/engine/training.py:3103: UserWarning: You are saving your model as an HDF5 file via `model.save()`. This file format is considered legacy. We recommend using instead the native Keras format, e.g. `model.save('my_model.keras')`.\n",
            "  saving_api.save_model(\n",
            "WARNING:tensorflow:Found duplicated `Variable`s in Model's `weights`. This is usually caused by `Variable`s being shared by Layers in the Model. These `Variable`s will be treated as separate `Variable`s when the Model is restored. To avoid this, please save with `save_format=\"tf\"`.\n"
          ]
        },
        {
          "output_type": "stream",
          "name": "stdout",
          "text": [
            "\b\b\b\b\b\b\b\b\b\b\b\b\b\b\b\b\b\b\b\b\b\b\b\b\b\b\b\b\b\b\b\b\b\b\b\b\b\b\b\b\b\b\b\b\b\b\b\b\b\b\b\b\b\b\b\b\b\b\b\b\b\b\b\b\b\r900/900 [==============================] - 5s 3ms/step - loss: 0.0465 - val_loss: 0.0185\n",
            "Epoch 2/100\n",
            "892/900 [============================>.] - ETA: 0s - loss: 0.0305"
          ]
        },
        {
          "output_type": "stream",
          "name": "stderr",
          "text": [
            "WARNING:tensorflow:Found duplicated `Variable`s in Model's `weights`. This is usually caused by `Variable`s being shared by Layers in the Model. These `Variable`s will be treated as separate `Variable`s when the Model is restored. To avoid this, please save with `save_format=\"tf\"`.\n"
          ]
        },
        {
          "output_type": "stream",
          "name": "stdout",
          "text": [
            "\b\b\b\b\b\b\b\b\b\b\b\b\b\b\b\b\b\b\b\b\b\b\b\b\b\b\b\b\b\b\b\b\b\b\b\b\b\b\b\b\b\b\b\b\b\b\b\b\b\b\b\b\b\b\b\b\b\b\b\b\b\b\b\b\b\r900/900 [==============================] - 4s 4ms/step - loss: 0.0303 - val_loss: 0.0167\n",
            "Epoch 3/100\n",
            "889/900 [============================>.] - ETA: 0s - loss: 0.0313"
          ]
        },
        {
          "output_type": "stream",
          "name": "stderr",
          "text": [
            "WARNING:tensorflow:Found duplicated `Variable`s in Model's `weights`. This is usually caused by `Variable`s being shared by Layers in the Model. These `Variable`s will be treated as separate `Variable`s when the Model is restored. To avoid this, please save with `save_format=\"tf\"`.\n"
          ]
        },
        {
          "output_type": "stream",
          "name": "stdout",
          "text": [
            "\b\b\b\b\b\b\b\b\b\b\b\b\b\b\b\b\b\b\b\b\b\b\b\b\b\b\b\b\b\b\b\b\b\b\b\b\b\b\b\b\b\b\b\b\b\b\b\b\b\b\b\b\b\b\b\b\b\b\b\b\b\b\b\b\b\r900/900 [==============================] - 7s 7ms/step - loss: 0.0310 - val_loss: 0.0162\n",
            "Epoch 4/100\n",
            "889/900 [============================>.] - ETA: 0s - loss: 0.0305"
          ]
        },
        {
          "output_type": "stream",
          "name": "stderr",
          "text": [
            "WARNING:tensorflow:Found duplicated `Variable`s in Model's `weights`. This is usually caused by `Variable`s being shared by Layers in the Model. These `Variable`s will be treated as separate `Variable`s when the Model is restored. To avoid this, please save with `save_format=\"tf\"`.\n"
          ]
        },
        {
          "output_type": "stream",
          "name": "stdout",
          "text": [
            "\b\b\b\b\b\b\b\b\b\b\b\b\b\b\b\b\b\b\b\b\b\b\b\b\b\b\b\b\b\b\b\b\b\b\b\b\b\b\b\b\b\b\b\b\b\b\b\b\b\b\b\b\b\b\b\b\b\b\b\b\b\b\b\b\b\r900/900 [==============================] - 5s 5ms/step - loss: 0.0302 - val_loss: 0.0145\n",
            "Epoch 5/100\n",
            "900/900 [==============================] - 5s 6ms/step - loss: 0.0304 - val_loss: 0.0171\n",
            "Epoch 6/100\n",
            "900/900 [==============================] - 8s 9ms/step - loss: 0.0305 - val_loss: 0.0189\n",
            "Epoch 7/100\n",
            "900/900 [==============================] - 9s 10ms/step - loss: 0.0304 - val_loss: 0.0166\n",
            "Epoch 8/100\n",
            "900/900 [==============================] - 7s 8ms/step - loss: 0.0301 - val_loss: 0.0184\n",
            "Epoch 9/100\n",
            "900/900 [==============================] - 9s 10ms/step - loss: 0.0302 - val_loss: 0.0147\n",
            "Epoch 9: early stopping\n"
          ]
        },
        {
          "output_type": "display_data",
          "data": {
            "text/plain": [
              "<Figure size 800x400 with 1 Axes>"
            ],
            "image/png": "[encoded data removed]"
          },
          "metadata": {}
        }
      ]
    },
    {
      "cell_type": "code",
      "source": [
        "[z_mean, z_log_var, z] = encoder.predict([x_train,y_train],batch_size=batch_size)"
      ],
      "metadata": {
        "id": "4W9VWJ2iyYvy",
        "colab": {
          "base_uri": "https://localhost:8080/"
        },
        "outputId": "7a994b65-2fda-4945-ed31-72ab0e7d034a"
      },
      "execution_count": 134,
      "outputs": [
        {
          "output_type": "stream",
          "name": "stdout",
          "text": [
            "900/900 [==============================] - 1s 1ms/step\n"
          ]
        }
      ]
    },
    {
      "cell_type": "code",
      "source": [
        "## Validation\n",
        "# The mean squared error\n",
        "print(\"Mean squared error: %.3f\" % mean_squared_error(y_train, z_mean))\n",
        "# Explained variance score: 1 is perfect prediction\n",
        "print('R2 Variance score: %.3f' % r2_score(y_train, z_mean))\n",
        "\n",
        "# Plot Prediction vs. Ground-truth Y\n",
        "fig = plt.figure()\n",
        "ax = fig.add_subplot(111)\n",
        "\n",
        "ax.scatter(y_train, z_mean,  color='black')\n",
        "plt.xlabel('ground truth')\n",
        "plt.ylabel('prediction truth')\n",
        "ax.axis('equal');"
      ],
      "metadata": {
        "id": "a8cXCN30ybLX",
        "colab": {
          "base_uri": "https://localhost:8080/",
          "height": 485
        },
        "outputId": "faf8fc25-e5db-4fa9-b72b-c03bb3392417"
      },
      "execution_count": 135,
      "outputs": [
        {
          "output_type": "stream",
          "name": "stdout",
          "text": [
            "Mean squared error: 0.001\n",
            "R2 Variance score: 0.986\n"
          ]
        },
        {
          "output_type": "display_data",
          "data": {
            "text/plain": [
              "<Figure size 640x480 with 1 Axes>"
            ],
            "image/png": "[encoded data removed]"
          },
          "metadata": {}
        }
      ]
    },
    {
      "cell_type": "code",
      "source": [
        "[z_mean_t, z_log_var_t, z_t] = encoder.predict([x_test,y_test],batch_size=batch_size)"
      ],
      "metadata": {
        "id": "dlRfcFpQyefF",
        "colab": {
          "base_uri": "https://localhost:8080/"
        },
        "outputId": "7571ddb7-9bb5-4c26-a91d-7f9526948091"
      },
      "execution_count": 136,
      "outputs": [
        {
          "output_type": "stream",
          "name": "stdout",
          "text": [
            "100/100 [==============================] - 0s 1ms/step\n"
          ]
        }
      ]
    },
    {
      "cell_type": "code",
      "source": [
        "## Validation\n",
        "# The mean squared error\n",
        "print(\"Mean squared error: %.3f\" % mean_squared_error(y_test, z_mean_t))\n",
        "# Explained variance score: 1 is perfect prediction\n",
        "print('R2 Variance score: %.3f' % r2_score(y_test, z_mean_t))\n",
        "\n",
        "# Plot Prediction vs. Ground-truth Y\n",
        "fig = plt.figure()\n",
        "ax = fig.add_subplot(111)\n",
        "\n",
        "ax.scatter(y_test, z_mean_t,  color='black')\n",
        "plt.xlabel('ground truth')\n",
        "plt.ylabel('prediction truth')\n",
        "ax.axis('equal');"
      ],
      "metadata": {
        "id": "rlH4bmhOyhLQ",
        "colab": {
          "base_uri": "https://localhost:8080/",
          "height": 489
        },
        "outputId": "c8f94a2e-6142-45f6-9e7e-885ffa6352bf"
      },
      "execution_count": 137,
      "outputs": [
        {
          "output_type": "stream",
          "name": "stdout",
          "text": [
            "Mean squared error: 0.001\n",
            "R2 Variance score: 0.982\n"
          ]
        },
        {
          "output_type": "display_data",
          "data": {
            "text/plain": [
              "<Figure size 640x480 with 1 Axes>"
            ],
            "image/png": "[encoded data removed]"
          },
          "metadata": {}
        }
      ]
    },
    {
      "cell_type": "code",
      "source": [
        "# import numpy as np\n",
        "# import pandas as pd\n",
        "# from sklearn.model_selection import KFold\n",
        "# from sklearn.metrics import mean_squared_error, r2_score\n",
        "\n",
        "# # Assuming 'result' is your DataFrame containing the data\n",
        "\n",
        "# # Define the number of splits (folds) for cross-validation\n",
        "# num_splits = 5  # You can adjust this as needed\n",
        "\n",
        "# # Initialize KFold cross-validation splitter\n",
        "# kf = KFold(n_splits=num_splits, shuffle=True, random_state=11)\n",
        "\n",
        "# # Initialize lists to store RMSE and R2 scores\n",
        "# rmse_scores = []\n",
        "# r2_scores = []\n",
        "\n",
        "# # Iterate over the splits\n",
        "# for train_idx, test_idx in kf.split(result):\n",
        "#     # Split the data into training and testing sets for this fold\n",
        "#     train_data = result.iloc[train_idx]\n",
        "#     test_data = result.iloc[test_idx]\n",
        "\n",
        "#     x_train = train_data.iloc[:, :-1]\n",
        "#     y_train = train_data.iloc[:, -1]\n",
        "\n",
        "#     x_test = test_data.iloc[:, :-1]\n",
        "#     y_test = test_data.iloc[:, -1]\n",
        "\n",
        "#     # Train the VAE model (assuming 'vae' is already defined)\n",
        "#     history = vae.fit([x_train, y_train], epochs=epochs, batch_size=batch_size, verbose=0)\n",
        "\n",
        "#     # Predict and evaluate on the training set\n",
        "#     [z_mean, z_log_var, z] = encoder.predict([x_train, y_train], batch_size=batch_size)\n",
        "#     rmse_train = np.sqrt(mean_squared_error(y_train, z_mean))\n",
        "#     r2_train = r2_score(y_train, z_mean)\n",
        "\n",
        "#     # Predict and evaluate on the test set\n",
        "#     [z_mean_t, z_log_var_t, z_t] = encoder.predict([x_test, y_test], batch_size=batch_size)\n",
        "#     rmse_test = np.sqrt(mean_squared_error(y_test, z_mean_t))\n",
        "#     r2_test = r2_score(y_test, z_mean_t)\n",
        "\n",
        "#     # Append RMSE and R2 scores for this fold\n",
        "#     rmse_scores.append(rmse_test)\n",
        "#     r2_scores.append(r2_test)\n",
        "\n",
        "# # Calculate the average RMSE and R2 scores across all folds\n",
        "# average_rmse = np.mean(rmse_scores)\n",
        "# average_r2 = np.mean(r2_scores)\n",
        "\n",
        "# print(f'Average RMSE: {average_rmse}')\n",
        "# print(f'Average R2 score: {average_r2}')"
      ],
      "metadata": {
        "id": "ZHry_S2zFSHR"
      },
      "execution_count": 138,
      "outputs": []
    },
    {
      "cell_type": "code",
      "source": [
        "x_test"
      ],
      "metadata": {
        "id": "E64rVISMUH5q",
        "colab": {
          "base_uri": "https://localhost:8080/",
          "height": 423
        },
        "outputId": "2bdb52f8-9b66-4a6d-8dfd-cbaf335ca74a"
      },
      "execution_count": 139,
      "outputs": [
        {
          "output_type": "execute_result",
          "data": {
            "text/plain": [
              "            0      0.02      0.04      0.06      0.08       0.1      0.12  \\\n",
              "907  0.031855  0.035006  0.030534  0.044965  0.036655  0.034800  0.036515   \n",
              "495  0.027245  0.021605  0.022085  0.016700  0.017454  0.028396  0.023381   \n",
              "502  0.019633  0.021002  0.017767  0.015642  0.028634  0.016255  0.025658   \n",
              "215  0.045795  0.052149  0.049368  0.045129  0.061219  0.052334  0.058388   \n",
              "394  0.087793  0.091911  0.086724  0.085696  0.096634  0.087129  0.094825   \n",
              "..        ...       ...       ...       ...       ...       ...       ...   \n",
              "855  0.035607  0.037243  0.036041  0.033248  0.027852  0.032364  0.049501   \n",
              "871  0.019407  0.022259  0.021202  0.017911  0.023083  0.022430  0.022817   \n",
              "835  0.092048  0.092033  0.091004  0.086667  0.090654  0.098082  0.105181   \n",
              "792  0.031469  0.017729  0.027535  0.027393  0.034221  0.032126  0.039849   \n",
              "520  0.254924  0.252912  0.249189  0.253734  0.257091  0.259807  0.265434   \n",
              "\n",
              "         0.14      0.16      0.18       0.2  \n",
              "907  0.046048  0.059886  0.105952  0.642419  \n",
              "495  0.036550  0.047304  0.090956  0.473555  \n",
              "502  0.036402  0.040339  0.038499  0.341984  \n",
              "215  0.065510  0.064908  0.124194  0.611333  \n",
              "394  0.084274  0.102347  0.129613  0.752692  \n",
              "..        ...       ...       ...       ...  \n",
              "855  0.052384  0.083486  0.123744  0.395393  \n",
              "871  0.030333  0.059441  0.082748  0.722055  \n",
              "835  0.094359  0.107943  0.143332  0.385213  \n",
              "792  0.028944  0.055968  0.068297  0.482583  \n",
              "520  0.258054  0.267597  0.304815  0.370314  \n",
              "\n",
              "[100 rows x 11 columns]"
            ],
            "text/html": [
              "\n",
              "  <div id=\"df-c8edebd6-337d-4095-a054-d09d7ed6b52b\" class=\"colab-df-container\">\n",
              "    <div>\n",
              "<style scoped>\n",
              "    .dataframe tbody tr th:only-of-type {\n",
              "        vertical-align: middle;\n",
              "    }\n",
              "\n",
              "    .dataframe tbody tr th {\n",
              "        vertical-align: top;\n",
              "    }\n",
              "\n",
              "    .dataframe thead th {\n",
              "        text-align: right;\n",
              "    }\n",
              "</style>\n",
              "<table border=\"1\" class=\"dataframe\">\n",
              "  <thead>\n",
              "    <tr style=\"text-align: right;\">\n",
              "      <th></th>\n",
              "      <th>0</th>\n",
              "      <th>0.02</th>\n",
              "      <th>0.04</th>\n",
              "      <th>0.06</th>\n",
              "      <th>0.08</th>\n",
              "      <th>0.1</th>\n",
              "      <th>0.12</th>\n",
              "      <th>0.14</th>\n",
              "      <th>0.16</th>\n",
              "      <th>0.18</th>\n",
              "      <th>0.2</th>\n",
              "    </tr>\n",
              "  </thead>\n",
              "  <tbody>\n",
              "    <tr>\n",
              "      <th>907</th>\n",
              "      <td>0.031855</td>\n",
              "      <td>0.035006</td>\n",
              "      <td>0.030534</td>\n",
              "      <td>0.044965</td>\n",
              "      <td>0.036655</td>\n",
              "      <td>0.034800</td>\n",
              "      <td>0.036515</td>\n",
              "      <td>0.046048</td>\n",
              "      <td>0.059886</td>\n",
              "      <td>0.105952</td>\n",
              "      <td>0.642419</td>\n",
              "    </tr>\n",
              "    <tr>\n",
              "      <th>495</th>\n",
              "      <td>0.027245</td>\n",
              "      <td>0.021605</td>\n",
              "      <td>0.022085</td>\n",
              "      <td>0.016700</td>\n",
              "      <td>0.017454</td>\n",
              "      <td>0.028396</td>\n",
              "      <td>0.023381</td>\n",
              "      <td>0.036550</td>\n",
              "      <td>0.047304</td>\n",
              "      <td>0.090956</td>\n",
              "      <td>0.473555</td>\n",
              "    </tr>\n",
              "    <tr>\n",
              "      <th>502</th>\n",
              "      <td>0.019633</td>\n",
              "      <td>0.021002</td>\n",
              "      <td>0.017767</td>\n",
              "      <td>0.015642</td>\n",
              "      <td>0.028634</td>\n",
              "      <td>0.016255</td>\n",
              "      <td>0.025658</td>\n",
              "      <td>0.036402</td>\n",
              "      <td>0.040339</td>\n",
              "      <td>0.038499</td>\n",
              "      <td>0.341984</td>\n",
              "    </tr>\n",
              "    <tr>\n",
              "      <th>215</th>\n",
              "      <td>0.045795</td>\n",
              "      <td>0.052149</td>\n",
              "      <td>0.049368</td>\n",
              "      <td>0.045129</td>\n",
              "      <td>0.061219</td>\n",
              "      <td>0.052334</td>\n",
              "      <td>0.058388</td>\n",
              "      <td>0.065510</td>\n",
              "      <td>0.064908</td>\n",
              "      <td>0.124194</td>\n",
              "      <td>0.611333</td>\n",
              "    </tr>\n",
              "    <tr>\n",
              "      <th>394</th>\n",
              "      <td>0.087793</td>\n",
              "      <td>0.091911</td>\n",
              "      <td>0.086724</td>\n",
              "      <td>0.085696</td>\n",
              "      <td>0.096634</td>\n",
              "      <td>0.087129</td>\n",
              "      <td>0.094825</td>\n",
              "      <td>0.084274</td>\n",
              "      <td>0.102347</td>\n",
              "      <td>0.129613</td>\n",
              "      <td>0.752692</td>\n",
              "    </tr>\n",
              "    <tr>\n",
              "      <th>...</th>\n",
              "      <td>...</td>\n",
              "      <td>...</td>\n",
              "      <td>...</td>\n",
              "      <td>...</td>\n",
              "      <td>...</td>\n",
              "      <td>...</td>\n",
              "      <td>...</td>\n",
              "      <td>...</td>\n",
              "      <td>...</td>\n",
              "      <td>...</td>\n",
              "      <td>...</td>\n",
              "    </tr>\n",
              "    <tr>\n",
              "      <th>855</th>\n",
              "      <td>0.035607</td>\n",
              "      <td>0.037243</td>\n",
              "      <td>0.036041</td>\n",
              "      <td>0.033248</td>\n",
              "      <td>0.027852</td>\n",
              "      <td>0.032364</td>\n",
              "      <td>0.049501</td>\n",
              "      <td>0.052384</td>\n",
              "      <td>0.083486</td>\n",
              "      <td>0.123744</td>\n",
              "      <td>0.395393</td>\n",
              "    </tr>\n",
              "    <tr>\n",
              "      <th>871</th>\n",
              "      <td>0.019407</td>\n",
              "      <td>0.022259</td>\n",
              "      <td>0.021202</td>\n",
              "      <td>0.017911</td>\n",
              "      <td>0.023083</td>\n",
              "      <td>0.022430</td>\n",
              "      <td>0.022817</td>\n",
              "      <td>0.030333</td>\n",
              "      <td>0.059441</td>\n",
              "      <td>0.082748</td>\n",
              "      <td>0.722055</td>\n",
              "    </tr>\n",
              "    <tr>\n",
              "      <th>835</th>\n",
              "      <td>0.092048</td>\n",
              "      <td>0.092033</td>\n",
              "      <td>0.091004</td>\n",
              "      <td>0.086667</td>\n",
              "      <td>0.090654</td>\n",
              "      <td>0.098082</td>\n",
              "      <td>0.105181</td>\n",
              "      <td>0.094359</td>\n",
              "      <td>0.107943</td>\n",
              "      <td>0.143332</td>\n",
              "      <td>0.385213</td>\n",
              "    </tr>\n",
              "    <tr>\n",
              "      <th>792</th>\n",
              "      <td>0.031469</td>\n",
              "      <td>0.017729</td>\n",
              "      <td>0.027535</td>\n",
              "      <td>0.027393</td>\n",
              "      <td>0.034221</td>\n",
              "      <td>0.032126</td>\n",
              "      <td>0.039849</td>\n",
              "      <td>0.028944</td>\n",
              "      <td>0.055968</td>\n",
              "      <td>0.068297</td>\n",
              "      <td>0.482583</td>\n",
              "    </tr>\n",
              "    <tr>\n",
              "      <th>520</th>\n",
              "      <td>0.254924</td>\n",
              "      <td>0.252912</td>\n",
              "      <td>0.249189</td>\n",
              "      <td>0.253734</td>\n",
              "      <td>0.257091</td>\n",
              "      <td>0.259807</td>\n",
              "      <td>0.265434</td>\n",
              "      <td>0.258054</td>\n",
              "      <td>0.267597</td>\n",
              "      <td>0.304815</td>\n",
              "      <td>0.370314</td>\n",
              "    </tr>\n",
              "  </tbody>\n",
              "</table>\n",
              "<p>100 rows × 11 columns</p>\n",
              "</div>\n",
              "    <div class=\"colab-df-buttons\">\n",
              "\n",
              "  <div class=\"colab-df-container\">\n",
              "    <button class=\"colab-df-convert\" onclick=\"convertToInteractive('df-c8edebd6-337d-4095-a054-d09d7ed6b52b')\"\n",
              "            title=\"Convert this dataframe to an interactive table.\"\n",
              "            style=\"display:none;\">\n",
              "\n",
              "  <svg xmlns=\"http://www.w3.org/2000/svg\" height=\"24px\" viewBox=\"0 -960 960 960\">\n",
              "    <path d=\"M120-120v-720h720v720H120Zm60-500h600v-160H180v160Zm220 220h160v-160H400v160Zm0 220h160v-160H400v160ZM180-400h160v-160H180v160Zm440 0h160v-160H620v160ZM180-180h160v-160H180v160Zm440 0h160v-160H620v160Z\"/>\n",
              "  </svg>\n",
              "    </button>\n",
              "\n",
              "  <style>\n",
              "    .colab-df-container {\n",
              "      display:flex;\n",
              "      gap: 12px;\n",
              "    }\n",
              "\n",
              "    .colab-df-convert {\n",
              "      background-color: #E8F0FE;\n",
              "      border: none;\n",
              "      border-radius: 50%;\n",
              "      cursor: pointer;\n",
              "      display: none;\n",
              "      fill: #1967D2;\n",
              "      height: 32px;\n",
              "      padding: 0 0 0 0;\n",
              "      width: 32px;\n",
              "    }\n",
              "\n",
              "    .colab-df-convert:hover {\n",
              "      background-color: #E2EBFA;\n",
              "      box-shadow: 0px 1px 2px rgba(60, 64, 67, 0.3), 0px 1px 3px 1px rgba(60, 64, 67, 0.15);\n",
              "      fill: #174EA6;\n",
              "    }\n",
              "\n",
              "    .colab-df-buttons div {\n",
              "      margin-bottom: 4px;\n",
              "    }\n",
              "\n",
              "    [theme=dark] .colab-df-convert {\n",
              "      background-color: #3B4455;\n",
              "      fill: #D2E3FC;\n",
              "    }\n",
              "\n",
              "    [theme=dark] .colab-df-convert:hover {\n",
              "      background-color: #434B5C;\n",
              "      box-shadow: 0px 1px 3px 1px rgba(0, 0, 0, 0.15);\n",
              "      filter: drop-shadow(0px 1px 2px rgba(0, 0, 0, 0.3));\n",
              "      fill: #FFFFFF;\n",
              "    }\n",
              "  </style>\n",
              "\n",
              "    <script>\n",
              "      const buttonEl =\n",
              "        document.querySelector('#df-c8edebd6-337d-4095-a054-d09d7ed6b52b button.colab-df-convert');\n",
              "      buttonEl.style.display =\n",
              "        google.colab.kernel.accessAllowed ? 'block' : 'none';\n",
              "\n",
              "      async function convertToInteractive(key) {\n",
              "        const element = document.querySelector('#df-c8edebd6-337d-4095-a054-d09d7ed6b52b');\n",
              "        const dataTable =\n",
              "          await google.colab.kernel.invokeFunction('convertToInteractive',\n",
              "                                                    [key], {});\n",
              "        if (!dataTable) return;\n",
              "\n",
              "        const docLinkHtml = 'Like what you see? Visit the ' +\n",
              "          '<a target=\"_blank\" href=https://colab.research.google.com/notebooks/data_table.ipynb>data table notebook</a>'\n",
              "          + ' to learn more about interactive tables.';\n",
              "        element.innerHTML = '';\n",
              "        dataTable['output_type'] = 'display_data';\n",
              "        await google.colab.output.renderOutput(dataTable, element);\n",
              "        const docLink = document.createElement('div');\n",
              "        docLink.innerHTML = docLinkHtml;\n",
              "        element.appendChild(docLink);\n",
              "      }\n",
              "    </script>\n",
              "  </div>\n",
              "\n",
              "\n",
              "<div id=\"df-1c8cafd6-833e-4194-adf7-6c2294eec189\">\n",
              "  <button class=\"colab-df-quickchart\" onclick=\"quickchart('df-1c8cafd6-833e-4194-adf7-6c2294eec189')\"\n",
              "            title=\"Suggest charts\"\n",
              "            style=\"display:none;\">\n",
              "\n",
              "<svg xmlns=\"http://www.w3.org/2000/svg\" height=\"24px\"viewBox=\"0 0 24 24\"\n",
              "     width=\"24px\">\n",
              "    <g>\n",
              "        <path d=\"M19 3H5c-1.1 0-2 .9-2 2v14c0 1.1.9 2 2 2h14c1.1 0 2-.9 2-2V5c0-1.1-.9-2-2-2zM9 17H7v-7h2v7zm4 0h-2V7h2v10zm4 0h-2v-4h2v4z\"/>\n",
              "    </g>\n",
              "</svg>\n",
              "  </button>\n",
              "\n",
              "<style>\n",
              "  .colab-df-quickchart {\n",
              "      --bg-color: #E8F0FE;\n",
              "      --fill-color: #1967D2;\n",
              "      --hover-bg-color: #E2EBFA;\n",
              "      --hover-fill-color: #174EA6;\n",
              "      --disabled-fill-color: #AAA;\n",
              "      --disabled-bg-color: #DDD;\n",
              "  }\n",
              "\n",
              "  [theme=dark] .colab-df-quickchart {\n",
              "      --bg-color: #3B4455;\n",
              "      --fill-color: #D2E3FC;\n",
              "      --hover-bg-color: #434B5C;\n",
              "      --hover-fill-color: #FFFFFF;\n",
              "      --disabled-bg-color: #3B4455;\n",
              "      --disabled-fill-color: #666;\n",
              "  }\n",
              "\n",
              "  .colab-df-quickchart {\n",
              "    background-color: var(--bg-color);\n",
              "    border: none;\n",
              "    border-radius: 50%;\n",
              "    cursor: pointer;\n",
              "    display: none;\n",
              "    fill: var(--fill-color);\n",
              "    height: 32px;\n",
              "    padding: 0;\n",
              "    width: 32px;\n",
              "  }\n",
              "\n",
              "  .colab-df-quickchart:hover {\n",
              "    background-color: var(--hover-bg-color);\n",
              "    box-shadow: 0 1px 2px rgba(60, 64, 67, 0.3), 0 1px 3px 1px rgba(60, 64, 67, 0.15);\n",
              "    fill: var(--button-hover-fill-color);\n",
              "  }\n",
              "\n",
              "  .colab-df-quickchart-complete:disabled,\n",
              "  .colab-df-quickchart-complete:disabled:hover {\n",
              "    background-color: var(--disabled-bg-color);\n",
              "    fill: var(--disabled-fill-color);\n",
              "    box-shadow: none;\n",
              "  }\n",
              "\n",
              "  .colab-df-spinner {\n",
              "    border: 2px solid var(--fill-color);\n",
              "    border-color: transparent;\n",
              "    border-bottom-color: var(--fill-color);\n",
              "    animation:\n",
              "      spin 1s steps(1) infinite;\n",
              "  }\n",
              "\n",
              "  @keyframes spin {\n",
              "    0% {\n",
              "      border-color: transparent;\n",
              "      border-bottom-color: var(--fill-color);\n",
              "      border-left-color: var(--fill-color);\n",
              "    }\n",
              "    20% {\n",
              "      border-color: transparent;\n",
              "      border-left-color: var(--fill-color);\n",
              "      border-top-color: var(--fill-color);\n",
              "    }\n",
              "    30% {\n",
              "      border-color: transparent;\n",
              "      border-left-color: var(--fill-color);\n",
              "      border-top-color: var(--fill-color);\n",
              "      border-right-color: var(--fill-color);\n",
              "    }\n",
              "    40% {\n",
              "      border-color: transparent;\n",
              "      border-right-color: var(--fill-color);\n",
              "      border-top-color: var(--fill-color);\n",
              "    }\n",
              "    60% {\n",
              "      border-color: transparent;\n",
              "      border-right-color: var(--fill-color);\n",
              "    }\n",
              "    80% {\n",
              "      border-color: transparent;\n",
              "      border-right-color: var(--fill-color);\n",
              "      border-bottom-color: var(--fill-color);\n",
              "    }\n",
              "    90% {\n",
              "      border-color: transparent;\n",
              "      border-bottom-color: var(--fill-color);\n",
              "    }\n",
              "  }\n",
              "</style>\n",
              "\n",
              "  <script>\n",
              "    async function quickchart(key) {\n",
              "      const quickchartButtonEl =\n",
              "        document.querySelector('#' + key + ' button');\n",
              "      quickchartButtonEl.disabled = true;  // To prevent multiple clicks.\n",
              "      quickchartButtonEl.classList.add('colab-df-spinner');\n",
              "      try {\n",
              "        const charts = await google.colab.kernel.invokeFunction(\n",
              "            'suggestCharts', [key], {});\n",
              "      } catch (error) {\n",
              "        console.error('Error during call to suggestCharts:', error);\n",
              "      }\n",
              "      quickchartButtonEl.classList.remove('colab-df-spinner');\n",
              "      quickchartButtonEl.classList.add('colab-df-quickchart-complete');\n",
              "    }\n",
              "    (() => {\n",
              "      let quickchartButtonEl =\n",
              "        document.querySelector('#df-1c8cafd6-833e-4194-adf7-6c2294eec189 button');\n",
              "      quickchartButtonEl.style.display =\n",
              "        google.colab.kernel.accessAllowed ? 'block' : 'none';\n",
              "    })();\n",
              "  </script>\n",
              "</div>\n",
              "    </div>\n",
              "  </div>\n"
            ]
          },
          "metadata": {},
          "execution_count": 139
        }
      ]
    },
    {
      "cell_type": "code",
      "source": [
        "y_test"
      ],
      "metadata": {
        "id": "3K56cHtzVYKU",
        "colab": {
          "base_uri": "https://localhost:8080/"
        },
        "outputId": "81c419ea-3ddc-4e5d-ff5f-185e51ad5a84"
      },
      "execution_count": 140,
      "outputs": [
        {
          "output_type": "execute_result",
          "data": {
            "text/plain": [
              "907    0.642572\n",
              "495    0.783557\n",
              "502    0.804018\n",
              "215    0.525069\n",
              "394    0.364524\n",
              "         ...   \n",
              "855    0.629121\n",
              "871    0.784068\n",
              "835    0.356928\n",
              "792    0.718202\n",
              "520    0.136600\n",
              "Name: k, Length: 100, dtype: float64"
            ]
          },
          "metadata": {},
          "execution_count": 140
        }
      ]
    },
    {
      "cell_type": "code",
      "source": [
        "# train original data\n",
        "y_train_np = y_train.to_numpy().reshape(-1, 1)\n",
        "concatenated_data_train = np.concatenate((x_train, y_train_np), axis=1)\n",
        "original_data_restored_train = scaler.inverse_transform(concatenated_data_train)\n",
        "original_data_restored_train.shape"
      ],
      "metadata": {
        "id": "pXdl0OIjA-wN",
        "colab": {
          "base_uri": "https://localhost:8080/"
        },
        "outputId": "88af5fb5-c85a-4540-d1b7-c1ef63e557f3"
      },
      "execution_count": 141,
      "outputs": [
        {
          "output_type": "execute_result",
          "data": {
            "text/plain": [
              "(900, 12)"
            ]
          },
          "metadata": {},
          "execution_count": 141
        }
      ]
    },
    {
      "cell_type": "code",
      "source": [
        "# test original data\n",
        "y_test_np = y_test.to_numpy().reshape(-1, 1)\n",
        "concatenated_data_test = np.concatenate((x_test, y_test_np), axis=1)\n",
        "original_data_restored_test = scaler.inverse_transform(concatenated_data_test)\n",
        "original_data_restored_test.shape"
      ],
      "metadata": {
        "id": "XV_koV6aBCG2",
        "colab": {
          "base_uri": "https://localhost:8080/"
        },
        "outputId": "176e4a80-2537-44a3-f78b-d2790c57f460"
      },
      "execution_count": 142,
      "outputs": [
        {
          "output_type": "execute_result",
          "data": {
            "text/plain": [
              "(100, 12)"
            ]
          },
          "metadata": {},
          "execution_count": 142
        }
      ]
    },
    {
      "cell_type": "code",
      "source": [
        "# Use the decoder to generate predictions\n",
        "predictions_train = decoder.predict(z)\n",
        "predictions_test = decoder.predict(z_t)"
      ],
      "metadata": {
        "id": "JEoqmQ6dBEtd",
        "colab": {
          "base_uri": "https://localhost:8080/"
        },
        "outputId": "1f76d9d9-410a-4575-b6cb-1ed0152d8f50"
      },
      "execution_count": 143,
      "outputs": [
        {
          "output_type": "stream",
          "name": "stdout",
          "text": [
            "29/29 [==============================] - 0s 1ms/step\n",
            "4/4 [==============================] - 0s 3ms/step\n"
          ]
        }
      ]
    },
    {
      "cell_type": "code",
      "source": [
        "# train decoded data\n",
        "decoded_data_train = np.concatenate((predictions_train, z_mean), axis=1)\n",
        "decoded_data_train_rescaled = scaler.inverse_transform(decoded_data_train)\n",
        "decoded_data_train_rescaled.shape"
      ],
      "metadata": {
        "id": "kOjsHoYPBIX0",
        "colab": {
          "base_uri": "https://localhost:8080/"
        },
        "outputId": "6690501a-750f-4a91-a032-21d1a2cb7c94"
      },
      "execution_count": 144,
      "outputs": [
        {
          "output_type": "execute_result",
          "data": {
            "text/plain": [
              "(900, 12)"
            ]
          },
          "metadata": {},
          "execution_count": 144
        }
      ]
    },
    {
      "cell_type": "code",
      "source": [
        "# train decoded data\n",
        "decoded_data_test = np.concatenate((predictions_test, z_mean_t), axis=1)\n",
        "decoded_data_test_rescaled = scaler.inverse_transform(decoded_data_test)\n",
        "decoded_data_test_rescaled.shape"
      ],
      "metadata": {
        "id": "eqQt1rc6BOd4",
        "colab": {
          "base_uri": "https://localhost:8080/"
        },
        "outputId": "2d574819-530f-4d3b-bc54-5e8e8727300f"
      },
      "execution_count": 145,
      "outputs": [
        {
          "output_type": "execute_result",
          "data": {
            "text/plain": [
              "(100, 12)"
            ]
          },
          "metadata": {},
          "execution_count": 145
        }
      ]
    },
    {
      "cell_type": "code",
      "source": [
        "## Validation\n",
        "# The mean squared error\n",
        "print(\"Mean squared error: %.3f\" % mean_squared_error(original_data_restored_train[:,-1], decoded_data_train_rescaled[:,-1]))\n",
        "# Explained variance score: 1 is perfect prediction\n",
        "print('R2 Variance score: %.3f' % r2_score(original_data_restored_train[:,-1], decoded_data_train_rescaled[:,-1]))\n",
        "\n",
        "# Plot Prediction vs. Ground-truth Y\n",
        "fig = plt.figure()\n",
        "ax = fig.add_subplot(111)\n",
        "\n",
        "ax.scatter(original_data_restored_train[:,-1], decoded_data_train_rescaled[:,-1],  color='black')\n",
        "plt.xlabel('ground truth')\n",
        "plt.ylabel('prediction truth')\n",
        "ax.axis('equal');"
      ],
      "metadata": {
        "id": "vGQyJa0RBSrZ",
        "colab": {
          "base_uri": "https://localhost:8080/",
          "height": 485
        },
        "outputId": "eaa10adb-3bcd-4030-f01a-076f6873a845"
      },
      "execution_count": 146,
      "outputs": [
        {
          "output_type": "stream",
          "name": "stdout",
          "text": [
            "Mean squared error: 41.275\n",
            "R2 Variance score: 0.986\n"
          ]
        },
        {
          "output_type": "display_data",
          "data": {
            "text/plain": [
              "<Figure size 640x480 with 1 Axes>"
            ],
            "image/png": "[encoded data removed]"
          },
          "metadata": {}
        }
      ]
    },
    {
      "cell_type": "code",
      "source": [
        "## Test Data\n",
        "# The mean squared error\n",
        "print(\"Mean squared error: %.3f\" % mean_squared_error(original_data_restored_test[:,-1], decoded_data_test_rescaled[:,-1]))\n",
        "# Explained variance score: 1 is perfect prediction\n",
        "print('R2 Variance score: %.3f' % r2_score(original_data_restored_test[:,-1], decoded_data_test_rescaled[:,-1]))\n",
        "\n",
        "# Plot Prediction vs. Ground-truth Y\n",
        "fig = plt.figure()\n",
        "ax = fig.add_subplot(111)\n",
        "\n",
        "ax.scatter(original_data_restored_test[:,-1], decoded_data_test_rescaled[:,-1],  color='black')\n",
        "plt.xlabel('actual k values')\n",
        "plt.ylabel('predicted k values')\n",
        "ax.axis('equal');"
      ],
      "metadata": {
        "id": "yUlEEqThBYMB",
        "colab": {
          "base_uri": "https://localhost:8080/",
          "height": 490
        },
        "outputId": "3e5ddb04-4502-47da-da2b-a93214e6f21d"
      },
      "execution_count": 147,
      "outputs": [
        {
          "output_type": "stream",
          "name": "stdout",
          "text": [
            "Mean squared error: 47.347\n",
            "R2 Variance score: 0.982\n"
          ]
        },
        {
          "output_type": "display_data",
          "data": {
            "text/plain": [
              "<Figure size 640x480 with 1 Axes>"
            ],
            "image/png": "[encoded data removed]"
          },
          "metadata": {}
        }
      ]
    },
    {
      "cell_type": "code",
      "source": [
        "## Visualize Latent Space\n",
        "vae.load_weights('random_weights.h5')\n",
        "# vae.fit([training_feature,ground_truth_r],\n",
        "#          epochs=epochs,\n",
        "#          batch_size=batch_size,\n",
        "#          verbose = 0)\n",
        "\n",
        "[z_mean, z_log_var, z] = encoder.predict([x_train,y_train],batch_size=batch_size)\n",
        "\n",
        "tsne = MDS(n_components=2, random_state=0)\n",
        "X_2d = tsne.fit_transform(z_mean)\n",
        "\n",
        "#%matplotlib notebook\n",
        "fig = plt.figure()\n",
        "ax = fig.add_subplot(111)\n",
        "ax.scatter(X_2d[:, 0], X_2d[:, 1], c= z)\n",
        "plt.title('TSNE visualization of latent space')\n",
        "ax.axis('equal')"
      ],
      "metadata": {
        "id": "Eztn2T5MllqB",
        "colab": {
          "base_uri": "https://localhost:8080/",
          "height": 600
        },
        "outputId": "00c89e2e-af01-4565-acbc-30c1d72b64c6"
      },
      "execution_count": 148,
      "outputs": [
        {
          "output_type": "stream",
          "name": "stdout",
          "text": [
            "900/900 [==============================] - 1s 1ms/step\n"
          ]
        },
        {
          "output_type": "stream",
          "name": "stderr",
          "text": [
            "/usr/local/lib/python3.10/dist-packages/sklearn/manifold/_mds.py:299: FutureWarning: The default value of `normalized_stress` will change to `'auto'` in version 1.4. To suppress this warning, manually set the value of `normalized_stress`.\n",
            "  warnings.warn(\n"
          ]
        },
        {
          "output_type": "execute_result",
          "data": {
            "text/plain": [
              "(-0.39250097604229345,\n",
              " 0.19084298450639733,\n",
              " -0.15951012224810485,\n",
              " 0.068594360382602)"
            ]
          },
          "metadata": {},
          "execution_count": 148
        },
        {
          "output_type": "display_data",
          "data": {
            "text/plain": [
              "<Figure size 640x480 with 1 Axes>"
            ],
            "image/png": "[encoded data removed]"
          },
          "metadata": {}
        }
      ]
    },
    {
      "cell_type": "code",
      "source": [
        "std_deviation_z_t = np.sqrt(np.exp(z_log_var_t))\n",
        "std_deviation_z_t[:5]"
      ],
      "metadata": {
        "id": "LU_puAaXBeRc",
        "colab": {
          "base_uri": "https://localhost:8080/"
        },
        "outputId": "ca690cad-dfc5-4b5b-ea82-cbcd34525f76"
      },
      "execution_count": 149,
      "outputs": [
        {
          "output_type": "execute_result",
          "data": {
            "text/plain": [
              "array([[1.0010484 ],\n",
              "       [1.0031532 ],\n",
              "       [1.0037267 ],\n",
              "       [0.9992543 ],\n",
              "       [0.99675035]], dtype=float32)"
            ]
          },
          "metadata": {},
          "execution_count": 149
        }
      ]
    },
    {
      "cell_type": "markdown",
      "source": [
        "## Bayesian Results"
      ],
      "metadata": {
        "id": "scQ_FStEHxbJ"
      }
    },
    {
      "cell_type": "code",
      "source": [
        "import numpy as np\n",
        "import matplotlib.pyplot as plt\n",
        "\n",
        "# Problem Parameters\n",
        "q = 1000\n",
        "L = 0.2\n",
        "TL = 375\n",
        "sig_m = 0.05\n",
        "x = np.array([0, 0.02, 0.04, 0.06, 0.08, 0.1, 0.12, 0.14, 0.16, 0.18, 0.2])\n",
        "T = np.array([376.228731, 376.105858,\t375.982985,\t375.860112,\t375.737238,\t375.614365,\t375.491492,\t375.368619,\t375.245746,\t375.122873,\t375])\n",
        "Nm = len(x)\n",
        "\n",
        "# Priors\n",
        "mu_k = 162.7\n",
        "sigma_k = 0.01 * mu_k\n",
        "\n",
        "kmin = mu_k - sigma_k\n",
        "kmax = mu_k + sigma_k\n",
        "Ns = 10\n",
        "ks = np.linspace(kmin, kmax, Ns)\n",
        "\n",
        "Tsim = np.zeros((Ns, Nm))\n",
        "P1 = np.zeros(Ns)\n",
        "P2 = np.zeros(Ns)\n",
        "P3a = np.zeros(Ns)\n",
        "\n",
        "for i in range(Ns):\n",
        "    Tsim[i, :] = -q / ks[i] * x + q * L / ks[i] + TL\n",
        "    e = Tsim[i, :] - T\n",
        "    A = np.sum(e**2)\n",
        "    B = (ks[i] - mu_k)**2 / sigma_k**2\n",
        "    S = A + B\n",
        "    f = -0.5 * S / sig_m**2\n",
        "    P1[i] = np.exp(f)\n",
        "    P2[i] = ks[i] * P1[i]\n",
        "    P3a[i] = ks[i]**2 * P1[i]\n",
        "Den = np.sum(P1)\n",
        "PPDF = P1 / Den\n",
        "km = np.sum(P2) / Den\n",
        "print(km)\n",
        "vark = np.sum(P3a) / Den - km**2\n",
        "sq = np.sqrt(vark)\n",
        "print(sq)\n",
        "# Plot the data\n",
        "plt.plot(ks, PPDF, '-')\n",
        "plt.xlabel('ks')\n",
        "plt.ylabel('PPDF')\n",
        "plt.show()"
      ],
      "metadata": {
        "id": "BP2G72Y7GEDa",
        "colab": {
          "base_uri": "https://localhost:8080/",
          "height": 485
        },
        "outputId": "45cfecfa-60e2-4dc4-fe2f-8972a256d1cc"
      },
      "execution_count": 150,
      "outputs": [
        {
          "output_type": "stream",
          "name": "stdout",
          "text": [
            "162.70020036535794\n",
            "0.18077766863406217\n"
          ]
        },
        {
          "output_type": "display_data",
          "data": {
            "text/plain": [
              "<Figure size 640x480 with 1 Axes>"
            ],
            "image/png": "[encoded data removed]"
          },
          "metadata": {}
        }
      ]
    },
    {
      "cell_type": "code",
      "source": [
        "import numpy as np\n",
        "\n",
        "# Define an array of different k values\n",
        "k_values = original_data_restored_test[:,-1]\n",
        "\n",
        "# Define a 2D array of different T values\n",
        "T_values_2d = original_data_restored_test[:,:-1]\n",
        "# Initialize lists to store km and sq values for each set\n",
        "km_list = []\n",
        "sq_list = []\n",
        "\n",
        "# Problem Parameters\n",
        "q = 1000\n",
        "L = 0.2\n",
        "TL = 375\n",
        "sig_m = 0.05\n",
        "x = np.array([0, 0.02, 0.04, 0.06, 0.08, 0.1, 0.12, 0.14, 0.16, 0.18, 0.2])\n",
        "Nm = len(x)\n",
        "\n",
        "# Priors\n",
        "Ns = 10\n",
        "\n",
        "for k, T_values in zip(k_values, T_values_2d):\n",
        "        sigma_k = 0.01 * k\n",
        "        kmin = k - sigma_k\n",
        "        kmax = k + sigma_k\n",
        "        ks = np.linspace(kmin, kmax, Ns)\n",
        "\n",
        "        Tsim = np.zeros((Ns, Nm))\n",
        "        P1 = np.zeros(Ns)\n",
        "        P2 = np.zeros(Ns)\n",
        "        P3a = np.zeros(Ns)\n",
        "\n",
        "        for i in range(Ns):\n",
        "            Tsim[i, :] = -q / ks[i] * x + q * L / ks[i] + TL\n",
        "            e = Tsim[i, :] - T_values\n",
        "            A = np.sum(e**2)\n",
        "            B = (ks[i] - k)**2 / sigma_k**2\n",
        "            S = A + B\n",
        "            f = -0.5 * S / sig_m**2\n",
        "            P1[i] = np.exp(f)\n",
        "            P2[i] = ks[i] * np.exp(f)\n",
        "            P3a[i] = ks[i]**2 * np.exp(f)\n",
        "\n",
        "        Den = np.sum(P1)\n",
        "        km = np.sum(P2) / Den\n",
        "        vark = np.sum(P3a) / Den - km**2\n",
        "        sq = np.sqrt(vark)\n",
        "\n",
        "        # Store km and sq values in the lists\n",
        "        km_list.append(km)\n",
        "        sq_list.append(sq)\n",
        "\n",
        "# km_list and sq_list now contain the results for each set of T values and the associated k value\n",
        "# You will have km and sq values for each combination of T values and k value\n",
        "for km, sq in zip(km_list, sq_list):\n",
        "    print(f\"km: {km}, sq: {sq}\")"
      ],
      "metadata": {
        "id": "8zJ8JjIO64sF",
        "colab": {
          "base_uri": "https://localhost:8080/"
        },
        "outputId": "3fc67ddc-523a-4b4f-bc19-a5bea27f1527"
      },
      "execution_count": 151,
      "outputs": [
        {
          "output_type": "stream",
          "name": "stdout",
          "text": [
            "km: 131.78664740763793, sq: 0.1463806961632593\n",
            "km: 158.4188060134052, sq: 0.17534920937004655\n",
            "km: 162.2938989958128, sq: 0.18018813126450264\n",
            "km: 109.59065019633216, sq: 0.12161784159044929\n",
            "km: 79.24582847416809, sq: 0.08804003739332597\n",
            "km: 14.59900212296626, sq: 0.016081852304500186\n",
            "km: 191.29553342176158, sq: 0.21233372045622587\n",
            "km: 187.5653444120968, sq: 0.20839658723540933\n",
            "km: 53.05462295290006, sq: 0.05806332492163845\n",
            "km: 22.58982270172851, sq: 0.023108673817614167\n",
            "km: 178.53639440104047, sq: 0.19819740368142785\n",
            "km: 148.1981321015789, sq: 0.1643694732952314\n",
            "km: 23.35098040831015, sq: 0.025315098969307375\n",
            "km: 102.70937708973173, sq: 0.11354026346912623\n",
            "km: 162.77504062139187, sq: 0.1807723307013535\n",
            "km: 116.06861853007236, sq: 0.12853958819191172\n",
            "km: 161.07788980683327, sq: 0.17885355199750433\n",
            "km: 196.4959475352054, sq: 0.2183036493568039\n",
            "km: 104.57814170636024, sq: 0.11601866478984767\n",
            "km: 192.2586045997729, sq: 0.21360570425072656\n",
            "km: 198.68821326641162, sq: 0.22076394896092436\n",
            "km: 43.53445872986418, sq: 0.04803105586814886\n",
            "km: 157.78886128167832, sq: 0.17529358165776268\n",
            "km: 31.396520520083094, sq: 0.034850560242333524\n",
            "km: 109.28647939664425, sq: 0.12124129934815144\n",
            "km: 158.70492739638803, sq: 0.17633799644630263\n",
            "km: 68.3065511213179, sq: 0.07557633605686123\n",
            "km: 188.02031051277964, sq: 0.20829590904284817\n",
            "km: 95.43714714765301, sq: 0.10572446511357095\n",
            "km: 146.28902352011866, sq: 0.16241133984886386\n",
            "km: 52.44970912162874, sq: 0.05817199611646557\n",
            "km: 118.75339350608972, sq: 0.13175117598550928\n",
            "km: 58.44704673219578, sq: 0.06463324632273115\n",
            "km: 89.69062116577658, sq: 0.0994208255507791\n",
            "km: 67.18500919436826, sq: 0.07368830543547153\n",
            "km: 135.16574610256455, sq: 0.15017983235372354\n",
            "km: 95.4250085474085, sq: 0.1057075321279844\n",
            "km: 159.23880011760787, sq: 0.17692340990868177\n",
            "km: 90.91869786853677, sq: 0.10079510761342321\n",
            "km: 168.67686711643594, sq: 0.18741249260211426\n",
            "km: 87.88628357649054, sq: 0.09760061864358764\n",
            "km: 65.2984401799805, sq: 0.07234790804014339\n",
            "km: 104.59210425515244, sq: 0.11621310055089824\n",
            "km: 146.50452290047247, sq: 0.16022927772960846\n",
            "km: 56.34272916091848, sq: 0.06258233007062315\n",
            "km: 115.69593875821683, sq: 0.127972816738336\n",
            "km: 61.08077598223297, sq: 0.06757982589971344\n",
            "km: 120.8326038761909, sq: 0.1342575462401451\n",
            "km: 102.6842214554875, sq: 0.1133687495541\n",
            "km: 45.69522342462458, sq: 0.0506687085327395\n",
            "km: 108.40882726235313, sq: 0.1204200846281979\n",
            "km: 156.10390961794133, sq: 0.1731676565856212\n",
            "km: 123.82281216866335, sq: 0.13722950239595863\n",
            "km: 182.90173347571096, sq: 0.2031975797591755\n",
            "km: 87.66200952724819, sq: 0.09690385251912441\n",
            "km: 189.60305275720393, sq: 0.210452096054666\n",
            "km: 148.06324048817726, sq: 0.1642974525290925\n",
            "km: 31.196080771798275, sq: 0.03364058398308695\n",
            "km: 83.92688745984937, sq: 0.09164209709383508\n",
            "km: 95.05974035070112, sq: 0.10537797352997631\n",
            "km: 60.585496328677216, sq: 0.06448636206732355\n",
            "km: 71.31545087297864, sq: 0.07923851932704104\n",
            "km: 80.53288916663817, sq: 0.08947906951352484\n",
            "km: 169.31573554445197, sq: 0.1880024129414093\n",
            "km: 19.4156323675365, sq: 0.012376900234194126\n",
            "km: 88.97856309638739, sq: 0.09875337901785862\n",
            "km: 119.06280075949218, sq: 0.1317647247129897\n",
            "km: 162.1557395795553, sq: 0.18000688514757654\n",
            "km: 103.77495380395837, sq: 0.11370335953227226\n",
            "km: 186.11338100646432, sq: 0.20677325807944916\n",
            "km: 23.856928610516203, sq: 0.026506807796267327\n",
            "km: 86.03164727686197, sq: 0.09555611431179606\n",
            "km: 138.87455550783625, sq: 0.15423369224537836\n",
            "km: 62.912649518572394, sq: 0.06982884186131114\n",
            "km: 197.1450597126062, sq: 0.21903139124029194\n",
            "km: 53.404961981657955, sq: 0.05933888136891769\n",
            "km: 162.57866176938577, sq: 0.18063809131241068\n",
            "km: 76.22452278144846, sq: 0.08419436343532735\n",
            "km: 155.8419329656677, sq: 0.17249461294974086\n",
            "km: 80.53769349300116, sq: 0.08903958284278116\n",
            "km: 57.62972716793868, sq: 0.0637873946894668\n",
            "km: 190.2382038018585, sq: 0.21058068829788454\n",
            "km: 183.80832875766941, sq: 0.2040906394604892\n",
            "km: 57.684706109463995, sq: 0.06351977101196694\n",
            "km: 95.3109037115916, sq: 0.10450568477377248\n",
            "km: 82.25765346018633, sq: 0.09123052320710039\n",
            "km: 59.28860832525657, sq: 0.06587414417819817\n",
            "km: 91.91669656564886, sq: 0.10197111998354981\n",
            "km: 44.43200863439191, sq: 0.04888018732229046\n",
            "km: 159.80845287094672, sq: 0.17731969092494526\n",
            "km: 137.24256439240344, sq: 0.15248808006794215\n",
            "km: 142.77581766193077, sq: 0.15863851978426335\n",
            "km: 182.41690707640342, sq: 0.20259785047793105\n",
            "km: 126.01758091929148, sq: 0.1400064041890626\n",
            "km: 59.319579163495895, sq: 0.06570364837975758\n",
            "km: 129.25004763711308, sq: 0.14360383355797157\n",
            "km: 158.52767805738654, sq: 0.17611714569074224\n",
            "km: 77.80783528889447, sq: 0.08644563860184554\n",
            "km: 146.0739710009739, sq: 0.1620410412758477\n",
            "km: 36.15710037510242, sq: 0.03771898432124508\n"
          ]
        }
      ]
    },
    {
      "cell_type": "code",
      "source": [
        "## Test Data\n",
        "# The mean squared error\n",
        "print(\"Mean squared error: %.3f\" % mean_squared_error(km_list, decoded_data_test_rescaled[:,-1]))\n",
        "# Explained variance score: 1 is perfect prediction\n",
        "print('R2 Variance score: %.3f' % r2_score(km_list, decoded_data_test_rescaled[:,-1]))\n",
        "\n",
        "# Plot Prediction vs. Ground-truth Y\n",
        "fig = plt.figure()\n",
        "ax = fig.add_subplot(111)\n",
        "\n",
        "ax.scatter(km_list, decoded_data_test_rescaled[:,-1],  color='black')\n",
        "plt.xlabel('Bayesian predicted k values')\n",
        "plt.ylabel('predicted k values by VAE')\n",
        "ax.axis('equal');"
      ],
      "metadata": {
        "id": "qpMpj2SNHDnS",
        "colab": {
          "base_uri": "https://localhost:8080/",
          "height": 490
        },
        "outputId": "fc5e2e2e-e9d7-4b55-befa-17fc19fa48f3"
      },
      "execution_count": 152,
      "outputs": [
        {
          "output_type": "stream",
          "name": "stdout",
          "text": [
            "Mean squared error: 47.311\n",
            "R2 Variance score: 0.982\n"
          ]
        },
        {
          "output_type": "display_data",
          "data": {
            "text/plain": [
              "<Figure size 640x480 with 1 Axes>"
            ],
            "image/png": "[encoded data removed]"
          },
          "metadata": {}
        }
      ]
    },
    {
      "cell_type": "markdown",
      "source": [
        "## Hyperparameter Tuning for different losses"
      ],
      "metadata": {
        "id": "ZF09NUGcvhTi"
      }
    },
    {
      "cell_type": "code",
      "source": [
        "from tensorflow.keras.layers import Input, Dense, Lambda\n",
        "from tensorflow.keras.models import Model\n",
        "from tensorflow.keras.losses import mse\n",
        "from tensorflow.keras import backend as K\n",
        "\n",
        "# Adding weights to different loss functions\n",
        "\n",
        "class CustomVAE(Model):\n",
        "    def __init__(self, encoder, decoder, weight_reconstruction=1.0, weight_kl=1.0, weight_label=1.0, **kwargs):\n",
        "        super(CustomVAE, self).__init__(**kwargs)\n",
        "        self.encoder = encoder\n",
        "        self.decoder = decoder\n",
        "        self.weight_reconstruction = weight_reconstruction\n",
        "        self.weight_kl = weight_kl\n",
        "        self.weight_label = weight_label\n",
        "\n",
        "    def call(self, inputs):\n",
        "        inputs_x, inputs_k = inputs\n",
        "        z_mean, z_log_var, z = self.encoder([inputs_x, inputs_k])\n",
        "        reconstructed = self.decoder(z)\n",
        "        self.add_loss(self.vae_loss(inputs_x, inputs_k, z_mean, z_log_var, reconstructed))\n",
        "        return reconstructed\n",
        "\n",
        "    def vae_loss(self, inputs_x, inputs_k, z_mean, z_log_var, reconstructed):\n",
        "        reconstruction_loss = mse(inputs_x, reconstructed)\n",
        "        reconstruction_loss *= self.weight_reconstruction\n",
        "\n",
        "        kl_loss = kl_divergence_multivariate_normal_keras(inputs_k, K.constant([0.0]), z_mean, z_log_var)\n",
        "        kl_loss *= self.weight_kl\n",
        "\n",
        "        label_loss = kl_divergence_multivariate_normal_keras(z_mean, z_log_var, inputs_k, K.constant([0.0]))\n",
        "        label_loss *= self.weight_label\n",
        "\n",
        "        return K.mean(reconstruction_loss + kl_loss + label_loss)"
      ],
      "metadata": {
        "id": "VyDZjYKmiBCf"
      },
      "execution_count": 229,
      "outputs": []
    },
    {
      "cell_type": "code",
      "source": [
        "from kerastuner import HyperParameters, RandomSearch\n",
        "\n",
        "def build_vae(hp):\n",
        "\n",
        "\n",
        "    weight_label = hp.Float('weight_label', min_value=0.1, max_value=1, step=0.1)\n",
        "    weight_kl = hp.Float('weight_kl', min_value=0.1, max_value=1, step=0.1)\n",
        "    weight_reconstruction = hp.Float('weight_reconstruction', min_value=0.1, max_value=1, step=0.1)\n",
        "\n",
        "    total = weight_kl + weight_label + weight_reconstruction\n",
        "    weight_reconstruction = weight_reconstruction / total\n",
        "    weight_kl = weight_kl / total\n",
        "    weight_label = weight_label / total\n",
        "    vae = CustomVAE(encoder, decoder, weight_reconstruction, weight_kl, weight_label)\n",
        "    optimizer = Adam(learning_rate=0.01)  # Consider tuning learning rate as well\n",
        "    vae.compile(optimizer=optimizer)\n",
        "    return vae\n",
        "\n",
        "tuner = RandomSearch(\n",
        "    build_vae,\n",
        "    objective='val_loss',\n",
        "    max_trials=5,\n",
        "    directory='my_dir',\n",
        "    project_name='lostuning'\n",
        ")\n",
        "\n",
        "tuner.search([x_train, y_train], x_train,\n",
        "             epochs=3,\n",
        "             batch_size=batch_size,\n",
        "             validation_data=([x_test, y_test], x_test))"
      ],
      "metadata": {
        "colab": {
          "base_uri": "https://localhost:8080/"
        },
        "id": "mOnC12jkiBrL",
        "outputId": "4e7de62f-af63-487a-e21e-f655678be28c"
      },
      "execution_count": 238,
      "outputs": [
        {
          "output_type": "stream",
          "name": "stdout",
          "text": [
            "Trial 5 Complete [00h 00m 10s]\n",
            "val_loss: 0.00395831186324358\n",
            "\n",
            "Best val_loss So Far: 0.0016904025105759501\n",
            "Total elapsed time: 00h 01m 33s\n"
          ]
        }
      ]
    },
    {
      "cell_type": "code",
      "source": [
        "# Retrieve the best hyperparameters\n",
        "best_hps = tuner.get_best_hyperparameters(num_trials=1)[0]\n",
        "\n",
        "# Extract the best weights\n",
        "best_weight_label = best_hps.get('weight_label')\n",
        "best_weight_kl = best_hps.get('weight_kl')\n",
        "best_weight_reconstruction = best_hps.get('weight_reconstruction')\n",
        "\n",
        "# Normalize the weights to ensure their sum equals 1\n",
        "total_best = best_weight_label + best_weight_kl + best_weight_reconstruction\n",
        "best_weight_reconstruction /= total_best\n",
        "best_weight_kl /= total_best\n",
        "best_weight_label /= total_best\n",
        "\n",
        "# Print the best weights\n",
        "print(f\"Best weight for label loss: {best_weight_label}\")\n",
        "print(f\"Best weight for KL divergence: {best_weight_kl}\")\n",
        "print(f\"Best weight for reconstruction loss: {best_weight_reconstruction}\")"
      ],
      "metadata": {
        "colab": {
          "base_uri": "https://localhost:8080/"
        },
        "id": "XquecFM0tvRD",
        "outputId": "4d232227-8052-4905-965b-9e224f2f26eb"
      },
      "execution_count": 242,
      "outputs": [
        {
          "output_type": "stream",
          "name": "stdout",
          "text": [
            "Best weight for label loss: 0.3333333333333333\n",
            "Best weight for KL divergence: 0.6\n",
            "Best weight for reconstruction loss: 0.06666666666666667\n"
          ]
        }
      ]
    },
    {
      "cell_type": "code",
      "source": [
        "# Build the best model\n",
        "best_model = build_vae(best_hps)"
      ],
      "metadata": {
        "id": "c2rJoCM5uKMt"
      },
      "execution_count": 243,
      "outputs": []
    },
    {
      "cell_type": "code",
      "source": [
        "# Save the best model's weights\n",
        "best_model.save_weights('best_model_weights.h5')"
      ],
      "metadata": {
        "id": "n4NzLr-8ur-Y"
      },
      "execution_count": 246,
      "outputs": []
    },
    {
      "cell_type": "code",
      "source": [
        "model_checkpoint = ModelCheckpoint('best_model', monitor='val_loss', save_best_only=True, mode='min', save_format='tf')\n",
        "model_checkpoint = ModelCheckpoint('best_model', monitor='val_loss', save_best_only=True, mode='min')"
      ],
      "metadata": {
        "id": "oi2_zQCCuxfq"
      },
      "execution_count": 252,
      "outputs": []
    },
    {
      "cell_type": "code",
      "source": [
        "from tensorflow.keras.callbacks import EarlyStopping, ModelCheckpoint\n",
        "import matplotlib.pyplot as plt\n",
        "\n",
        "# Define callbacks\n",
        "early_stopping = EarlyStopping(monitor='val_loss', patience=5, verbose=1, mode='min')\n",
        "model_checkpoint = ModelCheckpoint('best_model', monitor='val_loss', save_best_only=True, mode='min')\n",
        "\n",
        "# Train the model with validation data and callbacks\n",
        "history = best_model.fit([x_train, y_train], x_train,\n",
        "                         epochs=100,\n",
        "                         batch_size=batch_size,\n",
        "                         validation_data=([x_test, y_test], x_test),\n",
        "                         callbacks=[early_stopping, model_checkpoint])\n",
        "\n",
        "\n",
        "# Plot training & validation loss values\n",
        "plt.figure(figsize=(8, 4))\n",
        "plt.plot(history.history['loss'], label='Training Loss')\n",
        "plt.plot(history.history['val_loss'], label='Validation Loss')\n",
        "plt.title('Model Loss')\n",
        "plt.ylabel('Loss')\n",
        "plt.xlabel('Epoch')\n",
        "plt.legend(['Train', 'Test'], loc='upper right')\n",
        "plt.show()"
      ],
      "metadata": {
        "colab": {
          "base_uri": "https://localhost:8080/",
          "height": 849
        },
        "id": "ZEZgBSp8uWBU",
        "outputId": "2aa0a42e-86b9-4361-97a7-b4515d07df00"
      },
      "execution_count": 253,
      "outputs": [
        {
          "output_type": "stream",
          "name": "stdout",
          "text": [
            "Epoch 1/100\n",
            "898/900 [============================>.] - ETA: 0s - loss: 0.0068"
          ]
        },
        {
          "output_type": "stream",
          "name": "stderr",
          "text": [
            "WARNING:tensorflow:Model's `__init__()` arguments contain non-serializable objects. Please implement a `get_config()` method in the subclassed Model for proper saving and loading. Defaulting to empty config.\n",
            "WARNING:tensorflow:Model's `__init__()` arguments contain non-serializable objects. Please implement a `get_config()` method in the subclassed Model for proper saving and loading. Defaulting to empty config.\n",
            "WARNING:tensorflow:Model's `__init__()` arguments contain non-serializable objects. Please implement a `get_config()` method in the subclassed Model for proper saving and loading. Defaulting to empty config.\n",
            "WARNING:tensorflow:Model's `__init__()` arguments contain non-serializable objects. Please implement a `get_config()` method in the subclassed Model for proper saving and loading. Defaulting to empty config.\n"
          ]
        },
        {
          "output_type": "stream",
          "name": "stdout",
          "text": [
            "\b\b\b\b\b\b\b\b\b\b\b\b\b\b\b\b\b\b\b\b\b\b\b\b\b\b\b\b\b\b\b\b\b\b\b\b\b\b\b\b\b\b\b\b\b\b\b\b\b\b\b\b\b\b\b\b\b\b\b\b\b\b\b\b\b\r900/900 [==============================] - 5s 6ms/step - loss: 0.0067 - val_loss: 0.0039\n",
            "Epoch 2/100\n",
            "883/900 [============================>.] - ETA: 0s - loss: 0.0068"
          ]
        },
        {
          "output_type": "stream",
          "name": "stderr",
          "text": [
            "WARNING:tensorflow:Model's `__init__()` arguments contain non-serializable objects. Please implement a `get_config()` method in the subclassed Model for proper saving and loading. Defaulting to empty config.\n",
            "WARNING:tensorflow:Model's `__init__()` arguments contain non-serializable objects. Please implement a `get_config()` method in the subclassed Model for proper saving and loading. Defaulting to empty config.\n",
            "WARNING:tensorflow:Model's `__init__()` arguments contain non-serializable objects. Please implement a `get_config()` method in the subclassed Model for proper saving and loading. Defaulting to empty config.\n",
            "WARNING:tensorflow:Model's `__init__()` arguments contain non-serializable objects. Please implement a `get_config()` method in the subclassed Model for proper saving and loading. Defaulting to empty config.\n"
          ]
        },
        {
          "output_type": "stream",
          "name": "stdout",
          "text": [
            "\b\b\b\b\b\b\b\b\b\b\b\b\b\b\b\b\b\b\b\b\b\b\b\b\b\b\b\b\b\b\b\b\b\b\b\b\b\b\b\b\b\b\b\b\b\b\b\b\b\b\b\b\b\b\b\b\b\b\b\b\b\b\b\b\b\r900/900 [==============================] - 4s 4ms/step - loss: 0.0067 - val_loss: 0.0014\n",
            "Epoch 3/100\n",
            "900/900 [==============================] - 2s 2ms/step - loss: 0.0069 - val_loss: 0.0052\n",
            "Epoch 4/100\n",
            "900/900 [==============================] - 2s 3ms/step - loss: 0.0074 - val_loss: 0.0081\n",
            "Epoch 5/100\n",
            "900/900 [==============================] - 3s 3ms/step - loss: 0.0063 - val_loss: 0.0055\n",
            "Epoch 6/100\n",
            "900/900 [==============================] - 3s 3ms/step - loss: 0.0086 - val_loss: 0.0027\n",
            "Epoch 7/100\n",
            "900/900 [==============================] - 3s 3ms/step - loss: 0.0059 - val_loss: 0.0018\n",
            "Epoch 7: early stopping\n"
          ]
        },
        {
          "output_type": "display_data",
          "data": {
            "text/plain": [
              "<Figure size 800x400 with 1 Axes>"
            ],
            "image/png": "[encoded data removed]"
          },
          "metadata": {}
        }
      ]
    },
    {
      "cell_type": "markdown",
      "source": [
        "How Early Stopping Works\n",
        "\n",
        "During Training: As the model trains, it periodically checks the validation loss after each epoch.\n",
        "\n",
        "Monitoring Performance: It keeps track of the minimum validation loss observed during training. After each epoch, it compares the current validation loss to the best loss observed so far.\n",
        "\n",
        "Patience Counter: If the validation loss does not improve (decrease, in this case), a counter is incremented. If the validation loss improves, the counter is reset to 0."
      ],
      "metadata": {
        "id": "pR6DnJ9hwBr6"
      }
    },
    {
      "cell_type": "markdown",
      "source": [
        "Advantages of Early Stopping\n",
        "\n",
        "Prevents Overfitting: By stopping training before the model begins to overfit to the training data, Early Stopping helps the model generalize better to unseen data.\n",
        "\n",
        "Saves Time and Resources: It reduces unnecessary training time and computational resources by halting the training process once the model ceases to improve."
      ],
      "metadata": {
        "id": "JFFJV5uawELC"
      }
    },
    {
      "cell_type": "code",
      "source": [],
      "metadata": {
        "id": "612WpIJruYdt"
      },
      "execution_count": null,
      "outputs": []
    }
  ]
}